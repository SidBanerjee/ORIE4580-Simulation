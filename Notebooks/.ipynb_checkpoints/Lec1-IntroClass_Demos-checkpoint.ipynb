{
 "cells": [
  {
   "cell_type": "markdown",
   "metadata": {
    "colab_type": "text",
    "id": "5HlryJykxrE2"
   },
   "source": [
    "# ORIE 4580: Intro Class Demos\n",
    "#### *Sid Banerjee, Cornell*\n",
    "\n",
    "\n",
    "\n",
    "Notebook with demos of Buffon's Needle, SIS epidemic, Wilson's algorithm and random linear maps"
   ]
  },
  {
   "cell_type": "markdown",
   "metadata": {
    "colab_type": "text",
    "id": "HOG4siNR_ymQ"
   },
   "source": [
    "## Preamble"
   ]
  },
  {
   "cell_type": "code",
   "execution_count": 12,
   "metadata": {
    "colab": {},
    "colab_type": "code",
    "id": "jpC854KEV1Lh"
   },
   "outputs": [],
   "source": [
    "# Make sure we have the packages we need\n",
    "\n",
    "import numpy as np\n",
    "import scipy as sc\n",
    "import math\n",
    "\n",
    "# Configuring matplotlib\n",
    "import matplotlib.pyplot as plt\n",
    "plt.rcParams[\"figure.figsize\"] = (10,10)\n",
    "plt.rcParams['axes.labelsize'] = 14\n",
    "plt.rcParams['xtick.labelsize'] = 12\n",
    "plt.rcParams['ytick.labelsize'] = 12\n",
    "plt.style.use('dark_background')\n",
    "plt.rcParams[\"image.cmap\"] = 'Set3'\n",
    "\n",
    "# Choosing a colormap for the plot colors\n",
    "cmap=plt.get_cmap('Set3')"
   ]
  },
  {
   "cell_type": "markdown",
   "metadata": {
    "colab_type": "text",
    "id": "CtBkc5sO_tY_"
   },
   "source": [
    "# Buffon's needle simulation\n",
    "\n",
    "First we demonstrate the Buffon's needle simulation - this is an example of using randomness for performing complex computations (in this case, computing $\\pi$). We also introduce some basic animation techniques in python. \n",
    "\n",
    "See [Wikipedia article](https://en.wikipedia.org/wiki/Buffon%27s_needle_problem) for details of the problem.\n",
    "\n",
    "\n",
    "\n",
    "Main simulation function, and generating the data"
   ]
  },
  {
   "cell_type": "code",
   "execution_count": 13,
   "metadata": {
    "colab": {},
    "colab_type": "code",
    "id": "4sf7BdXMV1Lp"
   },
   "outputs": [],
   "source": [
    "def buffon(N,length,dist,num_lines = 2,seed=-1):\n",
    "    \"\"\"\n",
    "    Generates a design matrix with Gaussian basis functions\n",
    "    \n",
    "    Parameters\n",
    "    ----------\n",
    "    N: number of throws \n",
    "    length: length of toothpick\n",
    "    dist: distance between lines\n",
    "    num_lines: number of lines (should be >=2)\n",
    "    seed: seed for random number generator; -1 for no seed\n",
    "        \n",
    "    Returns\n",
    "    ----------\n",
    "    sim_data: list of length N with outputs of sims\n",
    "              each simulation output comprises:\n",
    "              (tuples) (x_1,y_1), (x_2,y_2) of toothpick endpoints\n",
    "              (int) number of line crossings\n",
    "    \n",
    "    \"\"\"\n",
    "\n",
    "    # Setting seed for PRNG (using -1 for no seed)\n",
    "    if seed!=-1:\n",
    "      np.random.seed(seed)              \n",
    "\n",
    "    # Generate random centers and angles of toothpicks    \n",
    "    # np.random.rand() generates a U[0,1] random variable\n",
    "    xcent = 1+(num_lines-1)*np.random.rand(N)\n",
    "    ycent = 1+(num_lines-1)*np.random.rand(N)\n",
    "    theta = (np.pi/2.0)*np.random.rand(N)\n",
    "    \n",
    "    # Count number of times each toothpick touches a line\n",
    "    crossed = (ycent - np.floor(ycent) - (length/2.0)*np.sin(theta) < 0).astype(int) + (ycent - np.floor(ycent) + (length/2.0)*np.sin(theta) > dist).astype(int)\n",
    "\n",
    "    # Return toothpick endpoints, number of times each toothpick crosses    \n",
    "    sim_data  = list(zip(list(zip(xcent - (length/2.0)*np.cos(theta),ycent - (length/2.0)*np.sin(theta))),\n",
    "                     list(zip(xcent + (length/2.0)*np.cos(theta),ycent + (length/2.0)*np.sin(theta))),\n",
    "                     crossed))\n",
    "\n",
    "    return sim_data"
   ]
  },
  {
   "cell_type": "code",
   "execution_count": 14,
   "metadata": {
    "colab": {},
    "colab_type": "code",
    "id": "kJWoPoC0iDPE"
   },
   "outputs": [],
   "source": [
    "# Generating the simulation data\n",
    "N = 200\n",
    "num_lines = 5\n",
    "length = 1\n",
    "dist = 1\n",
    "data = buffon(N,length,dist,num_lines,seed=1)\n",
    "crossed = np.cumsum([data[i][2] for i in range(N)])"
   ]
  },
  {
   "cell_type": "markdown",
   "metadata": {
    "colab_type": "text",
    "id": "3iv4W4G4AmZX"
   },
   "source": [
    "## Static plots of simulation data"
   ]
  },
  {
   "cell_type": "code",
   "execution_count": 17,
   "metadata": {
    "colab": {},
    "colab_type": "code",
    "id": "An1xZE4xDYE0"
   },
   "outputs": [],
   "source": [
    "# For displaying static plots, matplotlib inline mode works better\n",
    "%matplotlib inline"
   ]
  },
  {
   "cell_type": "code",
   "execution_count": null,
   "metadata": {
    "colab": {},
    "colab_type": "code",
    "id": "O4i10XtBr8qZ"
   },
   "outputs": [],
   "source": [
    "from matplotlib.collections import LineCollection\n",
    "\n",
    "lines = []\n",
    "colors = []\n",
    "for i in range(N):\n",
    "  lines.append([(data[i][0][0],data[i][0][1]),(data[i][1][0],data[i][1][1])])\n",
    "  colors.append(cmap(data[i][2]+4))\n",
    "  \n",
    "fig, ax = plt.subplots(figsize=(8,8))\n",
    "ax.set(xlim=(0,num_lines+1), ylim=(0,num_lines+1))\n",
    "ax.hlines(np.arange(1,num_lines+1), 0, num_lines+1, colors='white', linestyles='dashed')\n",
    "ax.set_title('Buffon\\'s needle simulation')\n",
    "\n",
    "line_segments = LineCollection(lines,colors=colors)\n",
    "ax.add_collection(line_segments)\n",
    "\n",
    "plt.show()"
   ]
  },
  {
   "cell_type": "code",
   "execution_count": null,
   "metadata": {
    "colab": {},
    "colab_type": "code",
    "id": "JPFalKdIV1Ls"
   },
   "outputs": [],
   "source": [
    "offset = 1   \n",
    "n = np.arange(1,N+1)    \n",
    "estim = np.zeros(N)\n",
    "for i in n:\n",
    "    estim[i-1] = 2.0*i/max(1,crossed[i-1])\n",
    "    \n",
    "fig, ax = plt.subplots(figsize=(16,8))\n",
    "    \n",
    "ax.plot(n[offset:],estim[offset:],'.',c=cmap(0))\n",
    "ax.plot(n[offset:],np.pi*np.ones(len(n[offset:])),'--',c=cmap(3),lw=2)\n",
    "ax.set_xlabel('Number of throws')\n",
    "ax.set_ylabel('Estimate')\n",
    "ax.set_title('Estimating $\\pi$ via Buffon\\'s Needle Experiment')\n",
    "plt.show()"
   ]
  },
  {
   "cell_type": "markdown",
   "metadata": {
    "colab_type": "text",
    "id": "PNz1-BFXA7nw"
   },
   "source": [
    "## Animated plots of simulation data\n",
    "\n"
   ]
  },
  {
   "cell_type": "markdown",
   "metadata": {
    "colab_type": "text",
    "id": "kpnUAxs1_yfA"
   },
   "source": [
    "One way to generate matplotlib animations is using the FuncAnimation function (see [docs](https://matplotlib.org/3.3.1/api/animation_api.html)). \n",
    "\n",
    "This requires using matplotlib in the interactive mode (see [blog post](https://medium.com/@1522933668924/using-matplotlib-in-jupyter-notebooks-comparing-methods-and-some-tips-python-c38e85b40ba1))"
   ]
  },
  {
   "cell_type": "code",
   "execution_count": 20,
   "metadata": {
    "colab": {},
    "colab_type": "code",
    "id": "9Dby9uGxCfAz"
   },
   "outputs": [],
   "source": [
    "# displaying animation works better with matplotlib in interactive mode\n",
    "%matplotlib notebook"
   ]
  },
  {
   "cell_type": "code",
   "execution_count": 21,
   "metadata": {
    "colab": {},
    "colab_type": "code",
    "id": "--Gw2bzlWx3l"
   },
   "outputs": [],
   "source": [
    "# Create animation using matplotlib.animation \n",
    "\n",
    "# The following command suppresses outputs of cell\n",
    "# We use it here to avoid displaying blank figure\n",
    "%%capture\n",
    "\n",
    "from IPython.display import HTML\n",
    "from matplotlib.animation import FuncAnimation\n",
    "\n",
    "fig, ax = plt.subplots(figsize=(8,8))\n",
    "ax.set(xlim=(0,num_lines+1), ylim=(0,num_lines+1))\n",
    "ax.hlines(np.arange(1,num_lines+1), 0, num_lines+1, colors='green', linestyles='dashed')\n",
    "\n",
    "disp_template = 'throws = %i\\ncrossed = %i'\n",
    "disp_text = ax.text(0.05, 0.9, '', transform=ax.transAxes)\n",
    "\n",
    "def animate(i):\n",
    "    line = ax.plot((data[i][0][0],data[i][1][0]),(data[i][0][1],data[i][1][1]),c=cmap(data[i][2]+4),lw=2)  \n",
    "    disp_text.set_text(disp_template % (i+1,crossed[i]))\n",
    "    return line, disp_text\n",
    "\n",
    "# First way to display animation. Need to use 'jshtml' for Google Colab, 'html5' for localhost\n",
    "plt.rc('animation', html='jshtml')\n",
    "ani = FuncAnimation(fig, animate, N, interval=200, blit=True)"
   ]
  },
  {
   "cell_type": "code",
   "execution_count": null,
   "metadata": {
    "colab": {},
    "colab_type": "code",
    "id": "beXSYwfX5E__"
   },
   "outputs": [],
   "source": [
    "# Now we can display the animation\n",
    "ani"
   ]
  },
  {
   "cell_type": "markdown",
   "metadata": {
    "colab_type": "text",
    "id": "06OsCIRqETjJ"
   },
   "source": [
    "More complex animation with mupltiple subplots"
   ]
  },
  {
   "cell_type": "code",
   "execution_count": 10,
   "metadata": {
    "colab": {},
    "colab_type": "code",
    "id": "ThuZ7GNRnsT0"
   },
   "outputs": [],
   "source": [
    "%%capture\n",
    "# If animation is too big, may need to increase embed limit\n",
    "#plt.rcParams['animation.embed_limit'] = 2**128\n",
    "\n",
    "cmap=plt.get_cmap('spring')\n",
    "\n",
    "# create a figure with two subplots\n",
    "fig, (ax1, ax2) = plt.subplots(1,2,figsize=(20,10))\n",
    "\n",
    "ax1.set_title('Buffon\\'s needle simulation')\n",
    "ax1.set(xlim=(0,num_lines+1), ylim=(0,num_lines+1))\n",
    "ax1.hlines(np.arange(1,num_lines+1), 0, num_lines+1, colors='white', linestyles='dashed')\n",
    "ax1.axis('off')\n",
    "ax1.set_facecolor('k')\n",
    "\n",
    "n = np.arange(N)\n",
    "cr_min = np.min([2.0*(n[i]+1)/max(1.0,crossed[i]) for i in range(N)])\n",
    "cr_max = np.max([2.0*(n[i]+1)/max(1.0,crossed[i]) for i in range(N)])\n",
    "ax2.set_title('Estimate for $\\pi$')\n",
    "ax2.set(xlim=(0,N+1), ylim=(cr_min,cr_max))\n",
    "ax2.hlines(np.pi, 0, N+1, colors=cmap(0), linestyles='dashed')\n",
    "ax2.set_xlabel('Number of throws')\n",
    "ax2.set_ylabel('Estimate')\n",
    "\n",
    "disp_template = 'throws = %i\\ncrossed = %i'\n",
    "disp_text = ax1.text(0.05, 0.9, '', transform=ax1.transAxes)\n",
    "\n",
    "# intialize two line objects (one in each axes)\n",
    "line1, = ax1.plot([], [], lw=2)\n",
    "line2, = ax2.plot([], [], lw=2)\n",
    "line = [line1, line2]\n",
    "\n",
    "def animate(i):\n",
    "    line[0] = ax1.plot((data[i][0][0],data[i][1][0]),(data[i][0][1],data[i][1][1]),c=cmap(data[i][2]/1.001))  \n",
    "    line[1] = ax2.plot(i+1,2.0*(i+1)/max(1,crossed[i]),'.',c=cmap(0.99))\n",
    "    disp_text.set_text(disp_template % (i+1,crossed[i]))\n",
    "    return line, disp_text\n",
    "\n",
    "ani = FuncAnimation(fig, animate, N, interval=100, blit=True)"
   ]
  },
  {
   "cell_type": "code",
   "execution_count": null,
   "metadata": {
    "colab": {},
    "colab_type": "code",
    "id": "zldywdNdwI6t"
   },
   "outputs": [],
   "source": [
    "# Alternate way for displaying animation\n",
    "HTML(ani.to_html5_video())"
   ]
  },
  {
   "cell_type": "markdown",
   "metadata": {
    "colab_type": "text",
    "id": "_HM_NH9YNEBm"
   },
   "source": [
    "# The SIS epidemic\n",
    "\n",
    "Next we demonstrate an example of a discrete event simulation model. \n",
    "\n",
    "Below, we simulate the [SIS epidemic model](https://en.wikipedia.org/wiki/Compartmental_models_in_epidemiology#The_SIS_model) on a $2$-d grid"
   ]
  },
  {
   "cell_type": "code",
   "execution_count": 28,
   "metadata": {
    "colab": {},
    "colab_type": "code",
    "id": "HZo55Ii7N3q2"
   },
   "outputs": [],
   "source": [
    "# We switch back to inline plots\n",
    "%matplotlib inline"
   ]
  },
  {
   "cell_type": "code",
   "execution_count": 29,
   "metadata": {
    "colab": {},
    "colab_type": "code",
    "id": "olHyQVirM3U_"
   },
   "outputs": [],
   "source": [
    "def update_infection(N,beta,kappa,I_t):\n",
    "    \"\"\"\n",
    "    Given set of infected nodes I, update infection\n",
    "    Parameters\n",
    "    ----------\n",
    "    N: (int) Size of grid (NxN)\n",
    "    beta: infection rate (recovery rate set to 1)\n",
    "    I_t: Set of infected neighbors at time t\n",
    "    Returns\n",
    "    ----------\n",
    "    I_tplus: Set of infected neighbors at time t+1\n",
    "    \"\"\"\n",
    "    I_tplus = I_t\n",
    "    Lambda = 1.0 + 4.0*beta + kappa\n",
    "    event = np.random.choice(['r','i','n'], p=[1.0/Lambda, 4.0*beta/Lambda,kappa/Lambda])\n",
    "    if event == 'r':\n",
    "      node_heal = tuple(np.random.randint(1,N+1,2))\n",
    "      if node_heal in I_tplus: I_tplus.remove(node_heal)\n",
    "    elif event == 'i':\n",
    "      N_grid = np.arange(1,N+1)\n",
    "      node_spread = tuple(np.random.randint(1,N+1,2))\n",
    "      if node_spread in I_tplus:\n",
    "        dirs = np.concatenate((np.eye(2),0-np.eye(2)),axis=0).astype(int)  \n",
    "        node_infect = tuple(map(sum, zip(node_spread, dirs[np.random.choice(4)])))    \n",
    "        if (node_infect[0] in N_grid) and (node_infect[1] in N_grid):\n",
    "          if node_infect not in I_tplus: I_tplus.append(node_infect)\n",
    "    else:\n",
    "      node_infect = tuple(np.random.randint(1,N+1,2))\n",
    "      I_tplus.append(node_infect)            \n",
    "    return I_tplus        \n",
    "\n",
    "\n",
    "def draw_network(N,I,fig):\n",
    "  plt.xlim(0,N+1)\n",
    "  plt.ylim=(0,N+1)\n",
    "  n = np.arange(1,N+1)\n",
    "  plt.plot(np.repeat(n,N),np.tile(n,N), '.g',markerfacecolor='None')\n",
    "  for node in I:\n",
    "    plt.plot(node[0],node[1], '.r')"
   ]
  },
  {
   "cell_type": "markdown",
   "metadata": {
    "colab_type": "text",
    "id": "b8HMprheOVCK"
   },
   "source": [
    "We first generate simulation data for two different parameter settings (here we adjust the infection rate $\\beta$ which corresponds to a net infection rate '$R0$')"
   ]
  },
  {
   "cell_type": "code",
   "execution_count": 32,
   "metadata": {
    "colab": {},
    "colab_type": "code",
    "id": "hjnqsQXTORxs"
   },
   "outputs": [],
   "source": [
    "N = 30\n",
    "N_grid = np.arange(1,N+1)\n",
    "\n",
    "np.random.seed(6)              \n",
    "beta1 = 0.45\n",
    "beta2 = 0.55\n",
    "kappa = 1.0/(100.0*(N**2))\n",
    "I1=[]\n",
    "I2=[]\n",
    "start = [(int(N/4),int(N/4)),(int(3*N/4),int(3*N/4))]\n",
    "I1_t = [node for node in start]\n",
    "I2_t = [node for node in start]\n",
    "I1.append([node for node in I1_t])  \n",
    "I2.append([node for node in I2_t])  \n",
    "\n",
    "n_frames = 100\n",
    "t_step = 1200\n",
    "\n",
    "for n in range(n_frames):\n",
    "  for t in range(t_step):\n",
    "    I1_t = update_infection(N,beta1,kappa,I1_t)\n",
    "    I2_t = update_infection(N,beta2,kappa,I2_t)\n",
    "  I1.append([node for node in I1_t])  \n",
    "  I2.append([node for node in I2_t])  "
   ]
  },
  {
   "cell_type": "markdown",
   "metadata": {
    "colab_type": "text",
    "id": "JM7vYlDGNjXv"
   },
   "source": [
    "We next demonstrate an even easier way of animating a simulation, using Python's time.sleep() function"
   ]
  },
  {
   "cell_type": "code",
   "execution_count": null,
   "metadata": {
    "colab": {},
    "colab_type": "code",
    "id": "cLWDk7LlNegy"
   },
   "outputs": [],
   "source": [
    "from IPython import display\n",
    "import time\n",
    "\n",
    "for n in range(n_frames):\n",
    "  display.clear_output(wait=True)\n",
    "  fig, (ax1, ax2) = plt.subplots(1,2,figsize=(20,10))\n",
    "  fig.set_facecolor('k')\n",
    "  fig.subplots_adjust(left=0, bottom=0, right=1, top=1, wspace=None, hspace=None)\n",
    "  \n",
    "  ax1.set_title('SIS Epidemic: %ix%i grid, R0=%0.2f' % (N,N,2*beta1))\n",
    "  ax2.set_title('SIS Epidemic: %ix%i grid, R0=%0.2f' % (N,N,2*beta2))\n",
    "  ax1.set(xlim=(0,N+1), ylim=(0,N+1))\n",
    "  ax2.set(xlim=(0,N+1), ylim=(0,N+1))\n",
    "  ax1.axis('off')\n",
    "  ax2.axis('off')\n",
    "  ax1.plot(np.repeat(N_grid,N),np.tile(N_grid,N), 'og',markerfacecolor='None')\n",
    "  ax2.plot(np.repeat(N_grid,N),np.tile(N_grid,N), 'og',markerfacecolor='None')\n",
    "  for node in I1[n]:\n",
    "    ax1.plot(node[0],node[1], 'or')\n",
    "  for node in I2[n]:\n",
    "    ax2.plot(node[0],node[1], 'or')\n",
    "  plt.show()\n",
    "  time.sleep(0)"
   ]
  },
  {
   "cell_type": "markdown",
   "metadata": {
    "colab_type": "text",
    "id": "xyjErBfQO4Jg"
   },
   "source": [
    "# Random spanning trees\n",
    "\n",
    "The earlier models involved very simple models and random variables. Later in the class, we will look at generating more complex random variables, for which an important technique is *Markov Chain Monte Carlo* (MCMC). We now see one such example.\n",
    "\n",
    "Below, we demonstrate an MCMC technique for generating a *random spanning tree* in a graph (here, a 2-d grid). There are several techniques for this, but we demonstrate one of the most beautiful - [Wilson's algorithm](https://en.wikipedia.org/wiki/Loop-erased_random_walk#Uniform_spanning_tree)."
   ]
  },
  {
   "cell_type": "code",
   "execution_count": 34,
   "metadata": {
    "colab": {},
    "colab_type": "code",
    "id": "hqu3nDJRNs32"
   },
   "outputs": [],
   "source": [
    "# Choosing a colormap for the plot colors\n",
    "cmap=plt.get_cmap('spring')\n",
    "\n",
    "def random_nbr(N,node):\n",
    "    \"\"\"\n",
    "    Given a node in NxN grid, returns a neighbor uniformly at random\n",
    "    Parameters\n",
    "    ----------\n",
    "    N: (int) Size of grid (NxN)\n",
    "    node: (tuple) node (x,y) \n",
    "    Returns\n",
    "    ----------\n",
    "    next: (tuple) Uniform random neigbor (x,y) of node \n",
    "    \"\"\"\n",
    "    N_grid = np.arange(1,N+1)\n",
    "    dirs = np.concatenate((np.eye(2),0-np.eye(2)),axis=0).astype(int)  \n",
    "    nbrs = [tuple(map(sum,zip(node,dirs[i]))) for i in range(len(dirs))]\n",
    "    node_nbrs = []\n",
    "    for new_node in nbrs:\n",
    "        if (new_node[0] in N_grid) and (new_node[1] in N_grid):\n",
    "            node_nbrs.append(new_node)\n",
    "    return node_nbrs[np.random.choice(len(node_nbrs))]\n",
    "\n",
    "def add_path(N,nodes_visited):\n",
    "    \"\"\"\n",
    "    Adds a path to a tree via Wilson's algorithm\n",
    "    \n",
    "    Parameters\n",
    "    ----------\n",
    "    N: Size of grid (NxN)\n",
    "    nodes_visited: list of nodes already added to tree\n",
    "        \n",
    "    Returns\n",
    "    ----------\n",
    "    \n",
    "    \"\"\"\n",
    "    # Find smallest node not yet visited\n",
    "    i = 0\n",
    "    found = 0\n",
    "    while not found:\n",
    "      if (i%N+1,int(i/N)+1) not in nodes_visited:\n",
    "          start = (i%N+1,int(i/N)+1)\n",
    "          found = 1\n",
    "      i = i+1    \n",
    "\n",
    "    walk_collection = []\n",
    "    path = [start]\n",
    "    current_walk_start = start\n",
    "    \n",
    "    while path[-1] not in nodes_visited:\n",
    "      next_node = random_nbr(N,path[-1])\n",
    "      path.append(next_node)\n",
    "      if next_node in path[:-1]:\n",
    "        walk_collection.append([current_walk_start,path])\n",
    "        ind = path.index(next_node)\n",
    "        path = path[:ind+1]\n",
    "        current_walk_start = path[-1]\n",
    "      \n",
    "    walk_collection.append([current_walk_start,path])\n",
    "    return walk_collection,path\n",
    "\n",
    "\n",
    "def draw_forest(N,tree,fig,shading=1):\n",
    "  plt.xlim(0,N+1)\n",
    "  plt.ylim=(0,N+1)\n",
    "  n = np.arange(1,N+1)\n",
    "  plt.plot(np.repeat(n,N),np.tile(n,N), ',w')\n",
    "\n",
    "  count = 1.0\n",
    "  for path in tree:\n",
    "    last_node = path[0]\n",
    "    plt.plot(last_node[0],last_node[1],'.g')\n",
    "    for i in np.arange(1,len(path)):\n",
    "      next_node = path[i]\n",
    "      plt.plot(next_node[0],next_node[1],'.g')\n",
    "      cmap1=plt.get_cmap('spring')\n",
    "      if shading:\n",
    "        plt.plot([last_node[0],next_node[0]],[last_node[1],next_node[1]], c=cmap1(count/len(tree)))\n",
    "      else:\n",
    "        plt.plot([last_node[0],next_node[0]],[last_node[1],next_node[1]], c=cmap1(0))  \n",
    "      last_node = next_node\n",
    "    count+=1.0     "
   ]
  },
  {
   "cell_type": "code",
   "execution_count": null,
   "metadata": {
    "colab": {},
    "colab_type": "code",
    "id": "5evuU7iEQPgq"
   },
   "outputs": [],
   "source": [
    "N = 30\n",
    "start_node = (1,1)\n",
    "np.random.seed(2)              \n",
    "\n",
    "tree = []\n",
    "paths_collection = []\n",
    "nodes_visited = [start_node]\n",
    "\n",
    "fig = plt.figure(figsize=(8,8))\n",
    "plt.title('Wilson\\'s algorithm: %ix%i grd' % (N,N))\n",
    "plt.axis('off')\n",
    "fig.set_facecolor(('xkcd:black'))\n",
    "\n",
    "draw_forest(N,tree,fig)\n",
    "\n",
    "while len(nodes_visited) < N*N:\n",
    "  walks,path = add_path(N,nodes_visited)\n",
    "  paths_collection = paths_collection + walks\n",
    "  tree.append(path)\n",
    "  for i in range(len(path)-1):\n",
    "    nodes_visited.append(path[i])\n",
    "\n",
    "draw_forest(N,tree,fig)\n",
    "plt.show()"
   ]
  },
  {
   "cell_type": "markdown",
   "metadata": {
    "colab_type": "text",
    "id": "VSzNja_fQhi4"
   },
   "source": [
    "Again, we can do a simple animation of this algorithm"
   ]
  },
  {
   "cell_type": "code",
   "execution_count": null,
   "metadata": {
    "colab": {},
    "colab_type": "code",
    "id": "fLcdbKNLQSHd"
   },
   "outputs": [],
   "source": [
    "N = 10\n",
    "start_node = (1,1)\n",
    "np.random.seed(2)              \n",
    "\n",
    "tree = []\n",
    "paths_collection = []\n",
    "nodes_visited = [start_node]\n",
    "\n",
    "fig = plt.figure(figsize=(8,8),facecolor='k')\n",
    "plt.title('Wilson\\'s algorithm: %ix%i grd' % (N,N))\n",
    "plt.axis('off')\n",
    "draw_forest(N,tree,fig)\n",
    "plt.show()\n",
    "\n",
    "\n",
    "while len(nodes_visited) < N*N:\n",
    "  display.clear_output(wait=True)\n",
    "  plt.figure(figsize=(8,8),facecolor='k')\n",
    "  plt.title('Wilson\\'s algorithm: %ix%i grd' % (N,N))\n",
    "  plt.axis('off')\n",
    "  walks,path = add_path(N,nodes_visited)\n",
    "  paths_collection = paths_collection + walks\n",
    "  tree.append(path)\n",
    "  for i in range(len(path)-1):\n",
    "    nodes_visited.append(path[i])\n",
    "  draw_forest(N,tree,fig,shading=1)\n",
    "  plt.show()\n",
    "  time.sleep(0.001)"
   ]
  },
  {
   "cell_type": "markdown",
   "metadata": {
    "colab_type": "text",
    "id": "Obg_92LYQl1m"
   },
   "source": [
    "# Random Linear Maps\n",
    "\n",
    "Finally, another important idea in this course is in understanding how random processes behave when run over long periods. We now look at one strange such process..."
   ]
  },
  {
   "cell_type": "code",
   "execution_count": null,
   "metadata": {
    "colab": {},
    "colab_type": "code",
    "id": "XdDjJpC_QiYR"
   },
   "outputs": [],
   "source": [
    "# Generating the samples\n",
    "\n",
    "# Number of samples\n",
    "N = 4\n",
    "\n",
    "# Initializing the random number generator seed\n",
    "np.random.seed(0)\n",
    "num_corners = 3\n",
    "corners = np.array([[0,0],[1,2],[2,0]])\n",
    "\n",
    "#num_corners = 5\n",
    "#corners = np.array([[0.5,0],[0,2],[1.5,0],[2,2],[1,3]])\n",
    "\n",
    "start_point = np.array([1,1])\n",
    "\n",
    "# Initialize list of points\n",
    "points = np.zeros((N+1,2))\n",
    "points[0,:] = start_point\n",
    "\n",
    "rand_choice = np.random.choice(num_corners,N)\n",
    "    \n",
    "for n in range(N):\n",
    "    vertex_choice = corners[rand_choice[n]]\n",
    "    points[n+1] = 0.5*(points[n])+ 0.5*(vertex_choice)\n",
    "    \n",
    "points_x = points[:,0]\n",
    "points_y = points[:,1]    \n",
    "    \n",
    "fig = plt.figure(figsize=(10,10))\n",
    "plt.axis('off')\n",
    "fig.set_facecolor(('xkcd:black'))\n",
    "\n",
    "from IPython import display\n",
    "import time\n",
    "\n",
    "for i in range(N):\n",
    "  display.clear_output(wait=True)\n",
    "  fig = plt.figure(figsize=(10,10))\n",
    "  plt.axis('off')\n",
    "  fig.set_facecolor(('xkcd:black'))\n",
    "  plt.scatter(corners[:,0],corners[:,1],s=20, c='r', marker='o')        \n",
    "  plt.scatter(points[:i,0],points[:i,1],s=20, c='b', marker='o')    \n",
    "  plt.show()\n",
    "  time.sleep(0.01)"
   ]
  },
  {
   "cell_type": "code",
   "execution_count": null,
   "metadata": {
    "colab": {},
    "colab_type": "code",
    "id": "pD8U49xJQ9Ed"
   },
   "outputs": [],
   "source": [
    "# Generating the samples\n",
    "\n",
    "# Number of samples\n",
    "N = 100000\n",
    "\n",
    "# Initializing the random number generator seed\n",
    "np.random.seed(0)\n",
    "num_corners = 3\n",
    "corners = np.array([[0,0],[1,2],[2,0]])\n",
    "\n",
    "#num_corners = 5\n",
    "#corners = np.array([[0.5,0],[0,2],[1.5,0],[2,2],[1,3]])\n",
    "\n",
    "start_point = np.array([1,1])\n",
    "\n",
    "# Initialize list of points\n",
    "points = np.zeros((N+1,2))\n",
    "points[0,:] = start_point\n",
    "\n",
    "rand_choice = np.random.choice(num_corners,N)\n",
    "    \n",
    "for n in range(N):\n",
    "    vertex_choice = corners[rand_choice[n]]\n",
    "    points[n+1] = 0.5*(points[n])+ 0.5*(vertex_choice)\n",
    "    \n",
    "points_x = points[:,0]\n",
    "points_y = points[:,1]    \n",
    "    \n",
    "fig = plt.figure(figsize=(10,10))\n",
    "plt.axis('off')\n",
    "fig.set_facecolor(('xkcd:black'))\n",
    "\n",
    "plt.scatter(corners[:,0],corners[:,1],s=20, c='r', marker='o')        \n",
    "plt.scatter(points[:,0],points[:,1],s=0.05, c='b', marker='.')    \n",
    "plt.show()"
   ]
  },
  {
   "cell_type": "code",
   "execution_count": null,
   "metadata": {
    "colab": {},
    "colab_type": "code",
    "id": "yaf_d_6mRCi4"
   },
   "outputs": [],
   "source": [
    "# Generating the samples\n",
    "\n",
    "# Number of samples\n",
    "N = 50000\n",
    "\n",
    "# Initializing the random number generator seed\n",
    "np.random.seed(0)\n",
    "\n",
    "# Generate random variable array\n",
    "rand_choice = np.random.choice(4, N, replace=True, p=[0.02, 0.84, 0.07, 0.07])\n",
    "\n",
    "\n",
    "\n",
    "# Initialize list of points\n",
    "points = np.zeros(shape = (N+1,2))\n",
    "\n",
    "start_point = np.array([0,0])\n",
    "points[0,:] = start_point\n",
    "\n",
    "\n",
    "# Define linear operators for the Barnsley fern\n",
    "A0 = np.matrix([[0,0],[0,0.16]])\n",
    "A1 = np.matrix([[0.85,0.04],[-0.04,0.85]])\n",
    "A2 = np.matrix([[0.2,-0.26],[0.23,0.22]])\n",
    "A3 = np.matrix([[-0.15,0.28],[0.26,0.24]])\n",
    "A = [A0,A1,A2,A3]\n",
    "b = np.matrix([[0,0],[0,2.6],[0,2.6],[0,0.44]])\n",
    "\n",
    "    \n",
    "for n in range(N):\n",
    "    points[n+1] = np.dot(A[rand_choice[n]],points[n].T)+b[rand_choice[n]] \n",
    "\n",
    "    \n",
    "%matplotlib inline    \n",
    "plt.figure(figsize = [10,10])\n",
    "plt.scatter(points[:,0],points[:,1],s=10, c='g', marker='.')    \n",
    "plt.show()"
   ]
  },
  {
   "cell_type": "code",
   "execution_count": null,
   "metadata": {
    "colab": {},
    "colab_type": "code",
    "id": "hOdtSmdjRHF0"
   },
   "outputs": [],
   "source": []
  }
 ],
 "metadata": {
  "colab": {
   "collapsed_sections": [],
   "name": "IntroClass_Demos.ipynb",
   "provenance": [],
   "toc_visible": true
  },
  "kernelspec": {
   "display_name": "Python 3",
   "language": "python",
   "name": "python3"
  },
  "language_info": {
   "codemirror_mode": {
    "name": "ipython",
    "version": 3
   },
   "file_extension": ".py",
   "mimetype": "text/x-python",
   "name": "python",
   "nbconvert_exporter": "python",
   "pygments_lexer": "ipython3",
   "version": "3.6.4"
  }
 },
 "nbformat": 4,
 "nbformat_minor": 1
}
