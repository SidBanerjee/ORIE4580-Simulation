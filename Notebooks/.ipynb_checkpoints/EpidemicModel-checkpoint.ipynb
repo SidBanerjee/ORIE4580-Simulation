{
 "cells": [
  {
   "cell_type": "code",
   "execution_count": 1,
   "metadata": {
    "colab": {},
    "colab_type": "code",
    "executionInfo": {
     "elapsed": 286,
     "status": "ok",
     "timestamp": 1598743970144,
     "user": {
      "displayName": "Siddhartha Banerjee",
      "photoUrl": "https://lh3.googleusercontent.com/a-/AOh14Gh4Ri-2CiPvheBliFIMkfl2ETeuu1Zgg1992I-zpQ=s64",
      "userId": "12107787204070129438"
     },
     "user_tz": 240
    },
    "id": "YCvTfGRfFhOs"
   },
   "outputs": [],
   "source": [
    "# Make sure we have the packages we need\n",
    "\n",
    "import numpy as np\n",
    "import scipy as sc\n",
    "import math\n",
    "\n",
    "# Configuring matplotlib\n",
    "import matplotlib.pyplot as plt\n",
    "plt.rcParams[\"figure.figsize\"] = (10,10)\n",
    "plt.rcParams['axes.labelsize'] = 14\n",
    "plt.rcParams['xtick.labelsize'] = 12\n",
    "plt.rcParams['ytick.labelsize'] = 12\n",
    "plt.style.use('dark_background')\n",
    "plt.rcParams[\"image.cmap\"] = 'spring'\n",
    "\n",
    "# Choosing a colormap for the plot colors\n",
    "cmap=plt.get_cmap('spring')"
   ]
  },
  {
   "cell_type": "code",
   "execution_count": 2,
   "metadata": {
    "colab": {},
    "colab_type": "code",
    "executionInfo": {
     "elapsed": 467,
     "status": "ok",
     "timestamp": 1598751351855,
     "user": {
      "displayName": "Siddhartha Banerjee",
      "photoUrl": "https://lh3.googleusercontent.com/a-/AOh14Gh4Ri-2CiPvheBliFIMkfl2ETeuu1Zgg1992I-zpQ=s64",
      "userId": "12107787204070129438"
     },
     "user_tz": 240
    },
    "id": "BjGCJJtaFrNj"
   },
   "outputs": [],
   "source": [
    "def update_infection(N,beta,kappa,I_t):\n",
    "    \"\"\"\n",
    "    Given set of infected nodes I, update infection\n",
    "    Parameters\n",
    "    ----------\n",
    "    N: (int) Size of grid (NxN)\n",
    "    beta: infection rate (recovery rate set to 1)\n",
    "    I_t: Set of infected neighbors at time t\n",
    "    Returns\n",
    "    ----------\n",
    "    I_tplus: Set of infected neighbors at time t+1\n",
    "    \"\"\"\n",
    "    I_tplus = I_t\n",
    "    Lambda = 1.0 + 4.0*beta + kappa\n",
    "    event = np.random.choice(['r','i','n'], p=[1.0/Lambda, 4.0*beta/Lambda,kappa/Lambda])\n",
    "    if event == 'r':\n",
    "      node_heal = tuple(np.random.randint(1,N+1,2))\n",
    "      if node_heal in I_tplus: I_tplus.remove(node_heal)\n",
    "    elif event == 'i':\n",
    "      N_grid = np.arange(1,N+1)\n",
    "      node_spread = tuple(np.random.randint(1,N+1,2))\n",
    "      if node_spread in I_tplus:\n",
    "        dirs = np.concatenate((np.eye(2),0-np.eye(2)),axis=0).astype(int)  \n",
    "        node_infect = tuple(map(sum, zip(node_spread, dirs[np.random.choice(4)])))    \n",
    "        if (node_infect[0] in N_grid) and (node_infect[1] in N_grid):\n",
    "          if node_infect not in I_tplus: I_tplus.append(node_infect)\n",
    "    else:\n",
    "      node_infect = tuple(np.random.randint(1,N+1,2))\n",
    "      I_tplus.append(node_infect)            \n",
    "    return I_tplus        \n",
    "\n",
    "\n",
    "def draw_network(N,I,fig):\n",
    "  plt.xlim(0,N+1)\n",
    "  plt.ylim=(0,N+1)\n",
    "  n = np.arange(1,N+1)\n",
    "  plt.plot(np.repeat(n,N),np.tile(n,N), '.g',markerfacecolor='None')\n",
    "  for node in I:\n",
    "    plt.plot(node[0],node[1], '.r')"
   ]
  },
  {
   "cell_type": "code",
   "execution_count": 3,
   "metadata": {
    "colab": {
     "base_uri": "https://localhost:8080/",
     "height": 482
    },
    "colab_type": "code",
    "executionInfo": {
     "elapsed": 48896,
     "status": "ok",
     "timestamp": 1598753261114,
     "user": {
      "displayName": "Siddhartha Banerjee",
      "photoUrl": "https://lh3.googleusercontent.com/a-/AOh14Gh4Ri-2CiPvheBliFIMkfl2ETeuu1Zgg1992I-zpQ=s64",
      "userId": "12107787204070129438"
     },
     "user_tz": 240
    },
    "id": "wk7h_jh_KAJ1",
    "outputId": "59e55e44-382f-4b6e-9c43-7cc2c5c29a3e"
   },
   "outputs": [
    {
     "data": {
      "image/png": "[encoded data removed]",
      "text/plain": [
       "<matplotlib.figure.Figure at 0x111e17cc0>"
      ]
     },
     "metadata": {},
     "output_type": "display_data"
    }
   ],
   "source": [
    "from IPython import display\n",
    "import time\n",
    "\n",
    "N = 50\n",
    "np.random.seed(0)              \n",
    "beta = 0.6\n",
    "kappa = 0.0001\n",
    "\n",
    "T = 100000\n",
    "I_t = [(int(N/2),int(N/2)),((int(N/4),int(N/4)))]\n",
    "\n",
    "fig = plt.figure(figsize=(8,8))\n",
    "plt.title('SIS Epidemic: %ix%i grid, Beta=%0.2f' % (N,N,beta))\n",
    "plt.axis('off')\n",
    "fig.set_facecolor(('xkcd:black'))\n",
    "draw_network(N,I_t,fig)\n",
    "\n",
    "step = 500\n",
    "for t in range(T):\n",
    "  I_t = update_infection(N,beta,kappa,I_t)\n",
    "  if t%step == 0:\n",
    "    display.clear_output(wait=True)\n",
    "    fig = plt.figure(figsize=(8,8))\n",
    "    plt.title('SIS Epidemic: %ix%i grid, Beta=%0.2f' % (N,N,beta))\n",
    "    plt.axis('off')\n",
    "    fig.set_facecolor(('xkcd:black'))\n",
    "    draw_network(N,I_t,fig)\n",
    "    plt.show()\n",
    "    time.sleep(0)"
   ]
  },
  {
   "cell_type": "code",
   "execution_count": 68,
   "metadata": {
    "colab": {},
    "colab_type": "code",
    "executionInfo": {
     "elapsed": 854,
     "status": "ok",
     "timestamp": 1598754821687,
     "user": {
      "displayName": "Siddhartha Banerjee",
      "photoUrl": "https://lh3.googleusercontent.com/a-/AOh14Gh4Ri-2CiPvheBliFIMkfl2ETeuu1Zgg1992I-zpQ=s64",
      "userId": "12107787204070129438"
     },
     "user_tz": 240
    },
    "id": "x7PbDe9iXbyJ"
   },
   "outputs": [],
   "source": [
    "%%capture\n",
    "from IPython.display import HTML\n",
    "from matplotlib.animation import FuncAnimation\n",
    "\n",
    "N = 50\n",
    "N_grid = np.arange(1,N+1)\n",
    "\n",
    "np.random.seed(3)              \n",
    "beta1 = 0.45\n",
    "beta2 = 0.55\n",
    "kappa = 0.0001\n",
    "I1_t = [(int(N/2),int(N/2)),((int(N/4),int(N/4)))]\n",
    "I2_t = [(int(N/2),int(N/2)),((int(N/4),int(N/4)))]\n",
    "\n",
    "n_frames = 300\n",
    "t_step = 2500\n",
    "\n",
    "fig, (ax1, ax2) = plt.subplots(1,2,figsize=(20,10))\n",
    "fig.subplots_adjust(left=0, bottom=0, right=1, top=1, wspace=None, hspace=None)\n",
    "ax1.set_title('SIS Epidemic: %ix%i grid, Beta=%0.2f' % (N,N,beta1))\n",
    "ax2.set_title('SIS Epidemic: %ix%i grid, Beta=%0.2f' % (N,N,beta2))\n",
    "ax1.axis('off')\n",
    "ax2.axis('off')\n",
    "ax1.set_facecolor(('xkcd:black'))\n",
    "ax2.set_facecolor(('xkcd:black'))\n",
    "ax1.set(xlim=(0,N+1), ylim=(0,N+1))\n",
    "ax2.set(xlim=(0,N+1), ylim=(0,N+1))\n",
    "\n",
    "ax1.plot(np.repeat(n,N),np.tile(n,N), ',g',markerfacecolor='None')\n",
    "ax2.plot(np.repeat(n,N),np.tile(n,N), ',g',markerfacecolor='None')\n",
    "\n",
    "\n",
    "def animate(i):\n",
    "  global I1_t\n",
    "  global I2_t\n",
    "  for t in range(t_step):\n",
    "    I1_t = update_infection(N,beta1,kappa,I1_t)\n",
    "    I2_t = update_infection(N,beta1,kappa,I2_t)\n",
    "  line = ax1.plot(np.repeat(N_grid,N),np.tile(N_grid,N), ',g',markerfacecolor='None')\n",
    "  line = ax2.plot(np.repeat(N_grid,N),np.tile(N_grid,N), ',g',markerfacecolor='None')\n",
    "  for node in I1_t:\n",
    "    line = ax1.plot(node[0],node[1], '.r')\n",
    "  for node in I2_t:\n",
    "    line = ax2.plot(node[0],node[1], '.r')\n",
    "  return line\n",
    "\n",
    "# First way to display animation. Need to use 'jshtml' for Google Colab, 'html5' for localhost\n",
    "plt.rc('animation', html='jshtml')\n",
    "ani = FuncAnimation(fig, animate, n_frames, interval=50, blit=False)"
   ]
  },
  {
   "cell_type": "code",
   "execution_count": null,
   "metadata": {
    "colab": {},
    "colab_type": "code",
    "id": "BT_OK2R2Jhh-"
   },
   "outputs": [],
   "source": [
    "# Alternate way for displaying animation\n",
    "HTML(ani.to_html5_video())"
   ]
  },
  {
   "cell_type": "code",
   "execution_count": 67,
   "metadata": {
    "colab": {
     "base_uri": "https://localhost:8080/",
     "height": 590
    },
    "colab_type": "code",
    "executionInfo": {
     "elapsed": 54806,
     "status": "ok",
     "timestamp": 1598754513525,
     "user": {
      "displayName": "Siddhartha Banerjee",
      "photoUrl": "https://lh3.googleusercontent.com/a-/AOh14Gh4Ri-2CiPvheBliFIMkfl2ETeuu1Zgg1992I-zpQ=s64",
      "userId": "12107787204070129438"
     },
     "user_tz": 240
    },
    "id": "-WQYE9eipmrx",
    "outputId": "9f84a318-3f93-4d25-edd7-789d3b33a1c0"
   },
   "outputs": [
    {
     "data": {
      "image/png": "[encoded data removed]",
      "text/plain": [
       "<Figure size 1440x720 with 2 Axes>"
      ]
     },
     "metadata": {
      "tags": []
     },
     "output_type": "display_data"
    }
   ],
   "source": [
    "from IPython import display\n",
    "import time\n",
    "\n",
    "N = 50\n",
    "n = np.arange(1,N+1)\n",
    "\n",
    "np.random.seed(3)              \n",
    "beta1 = 0.55\n",
    "beta2 = 0.45\n",
    "kappa = 0.0001\n",
    "\n",
    "T = 200000\n",
    "I1_t = [(int(N/2),int(N/2)),((int(N/4),int(N/4)))]\n",
    "I2_t = [(int(N/2),int(N/2)),((int(N/4),int(N/4)))]\n",
    "\n",
    "fig, (ax1, ax2) = plt.subplots(1,2,figsize=(20,10))\n",
    "ax1.set_title('SIS Epidemic: %ix%i grid, Beta=%0.2f' % (N,N,beta1))\n",
    "ax2.set_title('SIS Epidemic: %ix%i grid, Beta=%0.2f' % (N,N,beta2))\n",
    "ax1.axis('off')\n",
    "ax2.axis('off')\n",
    "ax1.set_facecolor(('xkcd:black'))\n",
    "ax2.set_facecolor(('xkcd:black'))\n",
    "ax1.set(xlim=(0,N+1), ylim=(0,N+1))\n",
    "ax2.set(xlim=(0,N+1), ylim=(0,N+1))\n",
    "\n",
    "ax1.plot(np.repeat(n,N),np.tile(n,N), '.g',markerfacecolor='None')\n",
    "ax2.plot(np.repeat(n,N),np.tile(n,N), '.g',markerfacecolor='None')\n",
    "for node in I1_t:\n",
    "  ax1.plot(node[0],node[1], '.r')\n",
    "for node in I2_t:\n",
    "  ax2.plot(node[0],node[1], '.r')\n",
    "\n",
    "step = 2500\n",
    "for t in range(T):\n",
    "  I1_t = update_infection(N,beta1,kappa,I1_t)\n",
    "  I2_t = update_infection(N,beta2,kappa,I2_t)\n",
    "\n",
    "  if t%step == 0:\n",
    "    display.clear_output(wait=True)\n",
    "    fig, (ax1, ax2) = plt.subplots(1,2,figsize=(20,10))\n",
    "    ax1.set_title('SIS Epidemic: %ix%i grid, Beta=%0.2f' % (N,N,beta1))\n",
    "    ax2.set_title('SIS Epidemic: %ix%i grid, Beta=%0.2f' % (N,N,beta2))\n",
    "    ax1.axis('off')\n",
    "    ax2.axis('off')\n",
    "    ax1.set_facecolor(('xkcd:black'))\n",
    "    ax2.set_facecolor(('xkcd:black'))\n",
    "    ax1.set(xlim=(0,N+1), ylim=(0,N+1))\n",
    "    ax2.set(xlim=(0,N+1), ylim=(0,N+1))\n",
    "    ax1.plot(np.repeat(n,N),np.tile(n,N), '.g',markerfacecolor='None')\n",
    "    ax2.plot(np.repeat(n,N),np.tile(n,N), '.g',markerfacecolor='None')\n",
    "    for node in I1_t:\n",
    "      ax1.plot(node[0],node[1], '.r')\n",
    "    for node in I2_t:\n",
    "      ax2.plot(node[0],node[1], '.r')\n",
    "    plt.show()\n",
    "    time.sleep(0)"
   ]
  },
  {
   "cell_type": "code",
   "execution_count": null,
   "metadata": {
    "colab": {},
    "colab_type": "code",
    "id": "GJXhGxQBJoct"
   },
   "outputs": [],
   "source": []
  }
 ],
 "metadata": {
  "colab": {
   "authorship_tag": "ABX9TyPo7e4YVGJmV+rcZqv0LauX",
   "collapsed_sections": [],
   "name": "EpidemicModel.ipynb",
   "provenance": []
  },
  "kernelspec": {
   "display_name": "Python 3",
   "language": "python",
   "name": "python3"
  },
  "language_info": {
   "codemirror_mode": {
    "name": "ipython",
    "version": 3
   },
   "file_extension": ".py",
   "mimetype": "text/x-python",
   "name": "python",
   "nbconvert_exporter": "python",
   "pygments_lexer": "ipython3",
   "version": "3.6.4"
  }
 },
 "nbformat": 4,
 "nbformat_minor": 1
}
