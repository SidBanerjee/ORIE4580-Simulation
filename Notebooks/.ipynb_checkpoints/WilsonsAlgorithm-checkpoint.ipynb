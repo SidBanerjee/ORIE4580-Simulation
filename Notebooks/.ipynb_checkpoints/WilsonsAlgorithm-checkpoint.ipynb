{
 "cells": [
  {
   "cell_type": "code",
   "execution_count": 56,
   "metadata": {
    "colab": {},
    "colab_type": "code",
    "id": "YCvTfGRfFhOs"
   },
   "outputs": [],
   "source": [
    "# Make sure we have the packages we need\n",
    "import numpy as np\n",
    "import scipy as sc\n",
    "import math\n",
    "\n",
    "# Configuring matplotlib\n",
    "import matplotlib.pyplot as plt\n",
    "#plt.rcParams[\"figure.figsize\"] = (10,10)\n",
    "plt.rcParams['axes.labelsize'] = 14\n",
    "plt.rcParams['xtick.labelsize'] = 12\n",
    "plt.rcParams['ytick.labelsize'] = 12\n",
    "plt.style.use('dark_background')\n",
    "plt.rcParams[\"image.cmap\"] = 'spring'"
   ]
  },
  {
   "cell_type": "code",
   "execution_count": 58,
   "metadata": {
    "colab": {},
    "colab_type": "code",
    "id": "BjGCJJtaFrNj"
   },
   "outputs": [
    {
     "ename": "IndentationError",
     "evalue": "unindent does not match any outer indentation level (<tokenize>, line 23)",
     "output_type": "error",
     "traceback": [
      "\u001b[0;36m  File \u001b[0;32m\"<tokenize>\"\u001b[0;36m, line \u001b[0;32m23\u001b[0m\n\u001b[0;31m    if np.random.choice([0,1]):\u001b[0m\n\u001b[0m    ^\u001b[0m\n\u001b[0;31mIndentationError\u001b[0m\u001b[0;31m:\u001b[0m unindent does not match any outer indentation level\n"
     ]
    }
   ],
   "source": [
    "def random_nbr(N,node):\n",
    "    \"\"\"\n",
    "    Given a node in NxN grid, returns a neighbor uniformly at random\n",
    "    \n",
    "    Parameters\n",
    "    ----------\n",
    "    N: (int) Size of grid (NxN)\n",
    "    node: (tuple) node (x,y) \n",
    "        \n",
    "    Returns\n",
    "    ----------\n",
    "    next: (tuple) Uniform random neigbor (x,y) of node \n",
    "    \"\"\"\n",
    "    N_grid = np.arange(1,N+1)\n",
    "    dirs = np.concatenate((np.eye(2),0-np.eye(2)),axis=0)  \n",
    "    nbrs = [tuple(map(sum,zip(node,dirs[i]))) for i in range(len(dirs))]\n",
    "    node_nbrs = []\n",
    "    for new_node in nbrs:\n",
    "        if (new_node[0] in N_grid) and (new_node[1] in N_grid):\n",
    "            node_nbrs.append(new_node)\n",
    "    return node_nbrs(np.random.choice(len(node_nbrs)))\n",
    "\n",
    "    if np.random.choice([0,1]):\n",
    "        next = (node[0]+np.random.choice([-1,1]),node[1])\n",
    "    else:\n",
    "        next = (node[0],node[1]+np.random.choice([-1,1]))\n",
    "\n",
    "    while (next[0] not in n_grid) or (next[1] not in n_grid):\n",
    "        if np.random.choice([0,1]):\n",
    "            next = (node[0]+np.random.choice([-1,1]),node[1])\n",
    "        else:\n",
    "            next = (node[0],node[1]+np.random.choice([-1,1]))\n",
    "    return next      \n",
    "\n",
    "\n",
    "def random_nbr_alt(N,node):\n",
    "  n_grid = np.arange(1,N+1)\n",
    "\n",
    "  if np.random.choice([0,1]):\n",
    "    next = (node[0]+np.random.choice([-1,1]),node[1])\n",
    "  else:\n",
    "    next = (node[0],node[1]+np.random.choice([-1,1]))\n",
    "\n",
    "  while (next[0] not in n_grid) or (next[1] not in n_grid):\n",
    "    if np.random.choice([0,1]):\n",
    "      next = (node[0]+np.random.choice([-1,1]),node[1])\n",
    "    else:\n",
    "      next = (node[0],node[1]+np.random.choice([-1,1]))\n",
    "  return next      \n",
    "\n",
    "\n",
    "\n",
    "def add_path(N,nodes_visited):\n",
    "    \"\"\"\n",
    "    Adds a path to a tree via Wilson's algorithm\n",
    "    \n",
    "    Parameters\n",
    "    ----------\n",
    "    N: Size of grid (NxN)\n",
    "    nodes_visited: list of nodes already added to tree\n",
    "        \n",
    "    Returns\n",
    "    ----------\n",
    "    \n",
    "    \"\"\"\n",
    "    # Find smallest node not yet visited\n",
    "    i = 0\n",
    "    found = 0\n",
    "    while not found:\n",
    "      if (i%N+1,int(i/N)+1) not in nodes_visited:\n",
    "          start = (i%N+1,int(i/N)+1)\n",
    "          found = 1\n",
    "      i = i+1    \n",
    "\n",
    "    walk_collection = []\n",
    "    path = [start]\n",
    "    current_walk_start = start\n",
    "    \n",
    "    while path[-1] not in nodes_visited:\n",
    "      next_node = random_nbr(N,path[-1])\n",
    "      path.append(next_node)\n",
    "      if next_node in path[:-1]:\n",
    "        walk_collection.append([current_walk_start,path])\n",
    "        ind = path.index(next_node)\n",
    "        path = path[:ind+1]\n",
    "        current_walk_start = path[-1]\n",
    "      \n",
    "    walk_collection.append([current_walk_start,path])\n",
    "    return walk_collection,path\n",
    "\n",
    "\n",
    "def draw_forest(N,tree,fig,shading=1):\n",
    "  plt.xlim(0,N+1)\n",
    "  plt.ylim=(0,N+1)\n",
    "  plt.title('Wilson\\'s algorithm: %ix%i grd' % (N,N))\n",
    "\n",
    "  n = np.arange(1,N+1)\n",
    "  plt.plot(np.repeat(n,N),np.tile(n,N), ',w')\n",
    "\n",
    "  count = 1.0\n",
    "  for path in tree:\n",
    "    last_node = path[0]\n",
    "    plt.plot(last_node[0],last_node[1],'.g')\n",
    "    for i in np.arange(1,len(path)):\n",
    "      next_node = path[i]\n",
    "      plt.plot(next_node[0],next_node[1],'.g')\n",
    "      if shading:\n",
    "        plt.plot([last_node[0],next_node[0]],[last_node[1],next_node[1]], c=cmap(count/len(tree)))\n",
    "      else:\n",
    "        plt.plot([last_node[0],next_node[0]],[last_node[1],next_node[1]], c=cmap(0))  \n",
    "      last_node = next_node\n",
    "    count+=1.0   "
   ]
  },
  {
   "cell_type": "code",
   "execution_count": 55,
   "metadata": {
    "colab": {
     "base_uri": "https://localhost:8080/",
     "height": 502
    },
    "colab_type": "code",
    "id": "wk7h_jh_KAJ1",
    "outputId": "e486c5bf-84f2-4c27-cad7-4973dd802d9e"
   },
   "outputs": [
    {
     "ename": "NameError",
     "evalue": "name 'draw_forest' is not defined",
     "output_type": "error",
     "traceback": [
      "\u001b[0;31m---------------------------------------------------------------------------\u001b[0m",
      "\u001b[0;31mNameError\u001b[0m                                 Traceback (most recent call last)",
      "\u001b[0;32m<ipython-input-55-d93826919b28>\u001b[0m in \u001b[0;36m<module>\u001b[0;34m\u001b[0m\n\u001b[1;32m      8\u001b[0m \u001b[0;34m\u001b[0m\u001b[0m\n\u001b[1;32m      9\u001b[0m \u001b[0mfig\u001b[0m \u001b[0;34m=\u001b[0m \u001b[0mplt\u001b[0m\u001b[0;34m.\u001b[0m\u001b[0mfigure\u001b[0m\u001b[0;34m(\u001b[0m\u001b[0mfigsize\u001b[0m\u001b[0;34m=\u001b[0m\u001b[0;34m(\u001b[0m\u001b[0;36m8\u001b[0m\u001b[0;34m,\u001b[0m\u001b[0;36m8\u001b[0m\u001b[0;34m)\u001b[0m\u001b[0;34m)\u001b[0m\u001b[0;34m\u001b[0m\u001b[0m\n\u001b[0;32m---> 10\u001b[0;31m \u001b[0mdraw_forest\u001b[0m\u001b[0;34m(\u001b[0m\u001b[0mN\u001b[0m\u001b[0;34m,\u001b[0m\u001b[0mtree\u001b[0m\u001b[0;34m,\u001b[0m\u001b[0mfig\u001b[0m\u001b[0;34m)\u001b[0m\u001b[0;34m\u001b[0m\u001b[0m\n\u001b[0m\u001b[1;32m     11\u001b[0m \u001b[0;34m\u001b[0m\u001b[0m\n\u001b[1;32m     12\u001b[0m \u001b[0;32mwhile\u001b[0m \u001b[0mlen\u001b[0m\u001b[0;34m(\u001b[0m\u001b[0mnodes_visited\u001b[0m\u001b[0;34m)\u001b[0m \u001b[0;34m<\u001b[0m \u001b[0mN\u001b[0m\u001b[0;34m*\u001b[0m\u001b[0mN\u001b[0m\u001b[0;34m:\u001b[0m\u001b[0;34m\u001b[0m\u001b[0m\n",
      "\u001b[0;31mNameError\u001b[0m: name 'draw_forest' is not defined"
     ]
    },
    {
     "data": {
      "text/plain": [
       "<matplotlib.figure.Figure at 0x10c37d400>"
      ]
     },
     "metadata": {},
     "output_type": "display_data"
    }
   ],
   "source": [
    "N = 50\n",
    "start_node = (1,1)\n",
    "np.random.seed(2)              \n",
    "\n",
    "tree = []\n",
    "paths_collection = []\n",
    "nodes_visited = [start_node]\n",
    "\n",
    "fig = plt.figure(figsize=(8,8))\n",
    "draw_forest(N,tree,fig)\n",
    "\n",
    "while len(nodes_visited) < N*N:\n",
    "  walks,path = add_path(N,nodes_visited)\n",
    "  paths_collection = paths_collection + walks\n",
    "  tree.append(path)\n",
    "  for i in range(len(path)-1):\n",
    "    nodes_visited.append(path[i])\n",
    "\n",
    "draw_forest(N,tree,fig)\n",
    "plt.show()"
   ]
  },
  {
   "cell_type": "code",
   "execution_count": null,
   "metadata": {
    "colab": {
     "base_uri": "https://localhost:8080/",
     "height": 502
    },
    "colab_type": "code",
    "id": "hNknF0D4KEdp",
    "outputId": "1849c285-d341-4453-fcbe-842df75edc93"
   },
   "outputs": [],
   "source": [
    "N = 10\n",
    "start_node = (1,1)\n",
    "np.random.seed(2)              \n",
    "\n",
    "tree = []\n",
    "paths_collection = []\n",
    "nodes_visited = [start_node]\n",
    "\n",
    "fig = plt.figure(figsize=(8,8))\n",
    "draw_forest(N,tree,fig)\n",
    "\n",
    "while len(nodes_visited) < N*N:\n",
    "  walks,path = add_path(N,nodes_visited)\n",
    "  paths_collection = paths_collection + walks\n",
    "  tree.append(path)\n",
    "  for i in range(len(path)-1):\n",
    "    nodes_visited.append(path[i])\n",
    "\n",
    "draw_forest(N,tree,fig)\n",
    "plt.show()"
   ]
  },
  {
   "cell_type": "code",
   "execution_count": null,
   "metadata": {
    "colab": {
     "base_uri": "https://localhost:8080/",
     "height": 611
    },
    "colab_type": "code",
    "id": "x7PbDe9iXbyJ",
    "outputId": "7a171df5-7668-49e6-a678-7d0b990e0e50"
   },
   "outputs": [],
   "source": [
    "from IPython import display\n",
    "import time\n",
    "\n",
    "N = 50\n",
    "start_node = (1,1)\n",
    "np.random.seed(2)              \n",
    "\n",
    "tree = []\n",
    "paths_collection = []\n",
    "nodes_visited = [start_node]\n",
    "\n",
    "fig = plt.subplots(figsize=(8,8))\n",
    "draw_forest(N,tree,fig)\n",
    "plt.show()\n",
    "\n",
    "\n",
    "while len(nodes_visited) < N*N:\n",
    "  display.clear_output(wait=True)\n",
    "  walks,path = add_path(N,nodes_visited)\n",
    "  paths_collection = paths_collection + walks\n",
    "  tree.append(path)\n",
    "  for i in range(len(path)-1):\n",
    "    nodes_visited.append(path[i])\n",
    "  draw_forest(N,tree,fig,shading=1)\n",
    "  plt.show()\n",
    "  time.sleep(0)"
   ]
  },
  {
   "cell_type": "code",
   "execution_count": null,
   "metadata": {
    "colab": {},
    "colab_type": "code",
    "id": "1yAdDjk2xL_z"
   },
   "outputs": [],
   "source": [
    "%%capture\n",
    "from IPython.display import HTML\n",
    "from matplotlib.animation import FuncAnimation\n",
    "\n",
    "fig, ax = plt.subplots(figsize=(8,8))\n",
    "ax.set(xlim=(0,N+1), ylim=(0,N+1))\n",
    "ax.set_title('Wilson\\'s algorithm: %ix%i grd' % (N,N))\n",
    "ax.plot(np.repeat(n,N),np.tile(n,N), ',w')\n",
    "\n",
    "\n",
    "def draw_forest_ax(N,tree,ax,shading=1):\n",
    "\n",
    "  n = np.arange(1,N+1)\n",
    "\n",
    "  count = 1.0\n",
    "  for path in tree:\n",
    "    last_node = path[0]\n",
    "    fig.plot(last_node[0],last_node[1],'.g')\n",
    "    for i in np.arange(1,len(path)):\n",
    "      next_node = path[i]\n",
    "      plt.plot(next_node[0],next_node[1],'.g')\n",
    "      cmap1=plt.get_cmap('spring')\n",
    "      if shading:\n",
    "        plt.plot([last_node[0],next_node[0]],[last_node[1],next_node[1]], c=cmap1(count/len(tree)))\n",
    "      else:\n",
    "        plt.plot([last_node[0],next_node[0]],[last_node[1],next_node[1]], c=cmap1(0))  \n",
    "      last_node = next_node\n",
    "    count+=1.0   \n",
    "\n",
    "\n",
    "\n",
    "def animate(i):\n",
    "    line = ax.plot((data[i][0][0],data[i][1][0]),(data[i][0][1],data[i][1][1]),c=cmap(data[i][2]+4),lw=2)  \n",
    "    disp_text.set_text(disp_template % (i+1,crossed[i]))\n",
    "    return line, disp_text\n",
    "\n",
    "# First way to display animation. Need to use 'jshtml' for Google Colab, 'html5' for localhost\n",
    "plt.rc('animation', html='jshtml')\n",
    "ani = FuncAnimation(fig, animate, N, interval=200, blit=True)\n",
    "\n",
    "\n",
    "\n",
    "\n",
    "while len(nodes_visited) < N*N:\n",
    "  walks,path = add_path(N,nodes_visited)\n",
    "  paths_collection.append(walks)\n",
    "  tree.append(path)\n",
    "  for i in range(len(path)-1):\n",
    "    nodes_visited.append(path[i])\n",
    "\n",
    "draw_forest(N,tree,ax)"
   ]
  },
  {
   "cell_type": "code",
   "execution_count": 253,
   "metadata": {
    "colab": {
     "base_uri": "https://localhost:8080/",
     "height": 102
    },
    "colab_type": "code",
    "id": "ZH7tQ9zceFmt",
    "outputId": "e278482a-e489-4323-f4ab-5aa72373b373"
   },
   "outputs": [
    {
     "name": "stdout",
     "output_type": "stream",
     "text": [
      "[(2, 1), [(2, 1), (2, 2), (1, 2), (1, 3), (1, 4), (1, 5), (1, 6), (2, 6), (3, 6), (4, 6), (4, 5), (4, 4), (5, 4), (4, 4)]]\n",
      "[(4, 4), [(2, 1), (2, 2), (1, 2), (1, 3), (1, 4), (1, 5), (1, 6), (2, 6), (3, 6), (4, 6), (4, 5), (4, 4), (4, 3), (5, 3), (4, 3)]]\n",
      "[(4, 3), [(2, 1), (2, 2), (1, 2), (1, 3), (1, 4), (1, 5), (1, 6), (2, 6), (3, 6), (4, 6), (4, 5), (4, 4), (4, 3), (4, 4)]]\n",
      "[(4, 4), [(2, 1), (2, 2), (1, 2), (1, 3), (1, 4), (1, 5), (1, 6), (2, 6), (3, 6), (4, 6), (4, 5), (4, 4), (4, 3), (5, 3), (4, 3)]]\n",
      "[(4, 3), [(2, 1), (2, 2), (1, 2), (1, 3), (1, 4), (1, 5), (1, 6), (2, 6), (3, 6), (4, 6), (4, 5), (4, 4), (4, 3), (4, 2), (4, 3)]]\n"
     ]
    }
   ],
   "source": [
    "for i in range(5):\n",
    "  print(paths_collection[i])"
   ]
  },
  {
   "cell_type": "code",
   "execution_count": null,
   "metadata": {
    "colab": {},
    "colab_type": "code",
    "id": "xS3s6JvNHCxC"
   },
   "outputs": [],
   "source": []
  }
 ],
 "metadata": {
  "colab": {
   "collapsed_sections": [],
   "name": "WilsonsAlgorithm.ipynb",
   "provenance": []
  },
  "kernelspec": {
   "display_name": "Python 3",
   "language": "python",
   "name": "python3"
  },
  "language_info": {
   "codemirror_mode": {
    "name": "ipython",
    "version": 3
   },
   "file_extension": ".py",
   "mimetype": "text/x-python",
   "name": "python",
   "nbconvert_exporter": "python",
   "pygments_lexer": "ipython3",
   "version": "3.6.4"
  }
 },
 "nbformat": 4,
 "nbformat_minor": 1
}
