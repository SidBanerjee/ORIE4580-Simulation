{
  "nbformat": 4,
  "nbformat_minor": 0,
  "metadata": {
    "colab": {
      "name": "Antithetic_Variates.ipynb",
      "version": "0.3.2",
      "provenance": [],
      "collapsed_sections": []
    },
    "kernelspec": {
      "display_name": "Python 3",
      "language": "python",
      "name": "python3"
    }
  },
  "cells": [
    {
      "metadata": {
        "id": "N1M0sRnnsAG3",
        "colab_type": "code",
        "colab": {}
      },
      "cell_type": "code",
      "source": [
        "import numpy as np\n",
        "import scipy.stats\n",
        "import matplotlib.pyplot as plt\n",
        "%matplotlib inline"
      ],
      "execution_count": 0,
      "outputs": []
    },
    {
      "metadata": {
        "id": "XyC7TaStsAHD",
        "colab_type": "text"
      },
      "cell_type": "markdown",
      "source": [
        "## Critical paths example"
      ]
    },
    {
      "metadata": {
        "id": "y1RcIsb5sAHG",
        "colab_type": "text"
      },
      "cell_type": "markdown",
      "source": [
        "Arcs 1 through 9 with lengths $X_j \\sim Exp(\\lambda_j)$ for $j = 1, \\ldots, 9$.\n"
      ]
    },
    {
      "metadata": {
        "id": "PcqhMh_8sAHL",
        "colab_type": "code",
        "colab": {}
      },
      "cell_type": "code",
      "source": [
        "arc_length_means = [1, 2, 2, 3, 3, 1, 2, 1, 3]"
      ],
      "execution_count": 0,
      "outputs": []
    },
    {
      "metadata": {
        "id": "cjvwkKpcsAHY",
        "colab_type": "code",
        "colab": {}
      },
      "cell_type": "code",
      "source": [
        "## IID samples\n",
        "\n",
        "n = 1000 # number of observations\n",
        "critical_path_length = np.zeros(n)\n",
        "\n",
        "for i in range(n):\n",
        "    U = np.random.rand(9)\n",
        "    X = -1.0*(arc_length_means*np.log(U))\n",
        "    path_1_length = X[0] + X[1] + X[3] + X[6] + X[8] # X1 + X2 + X4 + X7 + X9\n",
        "    path_2_length = X[0] + X[1] + X[4] + X[7] + X[8] # X1 + X2 + X5 + X8 + X9\n",
        "    path_3_length = X[0] + X[2] + X[5] + X[7] + X[8] # X1 + X3 + X6 + X8 + X9\n",
        "    critical_path_length[i] = np.max([path_1_length, path_2_length, path_3_length])"
      ],
      "execution_count": 0,
      "outputs": []
    },
    {
      "metadata": {
        "id": "OhgUI2rWsAHi",
        "colab_type": "code",
        "colab": {
          "base_uri": "https://localhost:8080/",
          "height": 281
        },
        "outputId": "5e0b13fc-cbae-4937-c812-aa323af955e6"
      },
      "cell_type": "code",
      "source": [
        "plt.hist(critical_path_length, bins = 20);\n",
        "plt.title(\"Histogram of Critical Path Length\");"
      ],
      "execution_count": 26,
      "outputs": [
        {
          "output_type": "display_data",
          "data": {
            "image/png": "[encoded data removed]",
            "text/plain": [
              "<matplotlib.figure.Figure at 0x7f66ae787dd8>"
            ]
          },
          "metadata": {
            "tags": []
          }
        }
      ]
    },
    {
      "metadata": {
        "id": "oeYYKNvJsAHx",
        "colab_type": "code",
        "colab": {
          "base_uri": "https://localhost:8080/",
          "height": 104
        },
        "outputId": "8b8b6333-0046-4ebe-9a59-29fc95b487e5"
      },
      "cell_type": "code",
      "source": [
        "cp_mean = np.mean(critical_path_length)\n",
        "cp_std = np.std(critical_path_length, ddof=1)\n",
        "\n",
        "print(\"Based on 1000 iid observations:\")\n",
        "print(\"Mean = \", cp_mean)\n",
        "print(\"Std Dev =\", cp_std)\n",
        "print(\"Half width =\", 1.96*cp_std/np.sqrt(n))\n",
        "print(\"CI = (\", cp_mean - 1.96*cp_std/np.sqrt(n), \",\", cp_mean + 1.96*cp_std/np.sqrt(n), \")\")"
      ],
      "execution_count": 27,
      "outputs": [
        {
          "output_type": "stream",
          "text": [
            "Based on 1000 iid observations:\n",
            "Mean =  12.62695426671386\n",
            "Std Dev = 5.110124128349783\n",
            "Half width = 0.31672877488665147\n",
            "CI = ( 12.310225491827207 , 12.943683041600512 )\n"
          ],
          "name": "stdout"
        }
      ]
    },
    {
      "metadata": {
        "id": "ZKBThgR6sAH5",
        "colab_type": "code",
        "colab": {}
      },
      "cell_type": "code",
      "source": [
        "## Antithetic variates (w/ same # of inversions)\n",
        "\n",
        "n = 500 # number of observations (now divided by 2)\n",
        "critical_path_length = np.zeros(n)\n",
        "\n",
        "for i in range(n):\n",
        "    U = np.random.rand(9)\n",
        "    X = -1.0*(arc_length_means*np.log(U))\n",
        "    path_1_length = X[0] + X[1] + X[3] + X[6] + X[8] # X1 + X2 + X4 + X7 + X9\n",
        "    path_2_length = X[0] + X[1] + X[4] + X[7] + X[8] # X1 + X2 + X5 + X8 + X9\n",
        "    path_3_length = X[0] + X[2] + X[5] + X[7] + X[8] # X1 + X3 + X6 + X8 + X9\n",
        "    critical_path_length_original = np.max([path_1_length, path_2_length, path_3_length])\n",
        "    \n",
        "    X_anti = -1.0*(arc_length_means*np.log(1-U))\n",
        "    path_1_length_anti = X_anti[0] + X_anti[1] + X_anti[3] + X_anti[6] + X_anti[8] # X1 + X2 + X4 + X7 + X9\n",
        "    path_2_length_anti = X_anti[0] + X_anti[1] + X_anti[4] + X_anti[7] + X_anti[8] # X1 + X2 + X5 + X8 + X9\n",
        "    path_3_length_anti = X_anti[0] + X_anti[2] + X_anti[5] + X_anti[7] + X_anti[8] # X1 + X3 + X6 + X8 + X9\n",
        "    critical_path_length_anti = np.max([path_1_length_anti, path_2_length_anti, path_3_length_anti])\n",
        "\n",
        "    # Average the two critical path length estimates\n",
        "    critical_path_length[i] = (critical_path_length_original + critical_path_length_anti)/2"
      ],
      "execution_count": 0,
      "outputs": []
    },
    {
      "metadata": {
        "id": "lBIpxtLysAH_",
        "colab_type": "code",
        "colab": {
          "base_uri": "https://localhost:8080/",
          "height": 281
        },
        "outputId": "2ab703a9-5ba4-4130-efb8-83bb777fe636"
      },
      "cell_type": "code",
      "source": [
        "plt.hist(critical_path_length, bins = 20);\n",
        "plt.title(\"Histogram of Critical Path Length Estimates (Antithetic)\");"
      ],
      "execution_count": 29,
      "outputs": [
        {
          "output_type": "display_data",
          "data": {
            "image/png": "[encoded data removed]",
            "text/plain": [
              "<matplotlib.figure.Figure at 0x7f66ae88e8d0>"
            ]
          },
          "metadata": {
            "tags": []
          }
        }
      ]
    },
    {
      "metadata": {
        "id": "ZCCLFL7jsAIL",
        "colab_type": "code",
        "colab": {
          "base_uri": "https://localhost:8080/",
          "height": 87
        },
        "outputId": "32e24251-acd8-4f71-fd89-42698859db03"
      },
      "cell_type": "code",
      "source": [
        "cp_mean = np.mean(critical_path_length)\n",
        "cp_std = np.std(critical_path_length, ddof=1)\n",
        "\n",
        "print(\"Mean = \", cp_mean)\n",
        "print(\"Std Dev =\", cp_std)\n",
        "print(\"Half width =\", 1.96*cp_std/np.sqrt(n))\n",
        "print(\"CI = (\", cp_mean - 1.96*cp_std/np.sqrt(n), \",\", cp_mean + 1.96*cp_std/np.sqrt(n), \")\")"
      ],
      "execution_count": 30,
      "outputs": [
        {
          "output_type": "stream",
          "text": [
            "Mean =  12.713547798765504\n",
            "Std Dev = 2.8237933251225\n",
            "Half width = 0.2475163981118557\n",
            "CI = ( 12.466031400653648 , 12.96106419687736 )\n"
          ],
          "name": "stdout"
        }
      ]
    },
    {
      "metadata": {
        "id": "HxOye4bDsAIS",
        "colab_type": "text"
      },
      "cell_type": "markdown",
      "source": [
        "## Option pricing example"
      ]
    },
    {
      "metadata": {
        "id": "iU0lMMMMsAIT",
        "colab_type": "code",
        "colab": {}
      },
      "cell_type": "code",
      "source": [
        "# Parameters\n",
        "\n",
        "T = 0.25 # 3 months (1/4 year) # expiration time\n",
        "N = 40 # number of monitoring dates\n",
        "Delta = T/N # time step\n",
        "\n",
        "K = 40 # strike price\n",
        "\n",
        "sigma = 0.3 # volatility\n",
        "r = 0.05 # risk free rate\n",
        "mu = r - (sigma**2)/2"
      ],
      "execution_count": 0,
      "outputs": []
    },
    {
      "metadata": {
        "id": "9zSyoFeesAIW",
        "colab_type": "code",
        "colab": {}
      },
      "cell_type": "code",
      "source": [
        "## IID paths\n",
        "\n",
        "n = 1000 # number of paths to simulate\n",
        "\n",
        "disc_payoff = np.zeros(n)\n",
        "for j in range(n):\n",
        "    Y = np.zeros(N+1)\n",
        "    Y[0] = 50 # initial price\n",
        "\n",
        "    # underlying N(0,1) rvs\n",
        "    xi = np.random.normal(loc=0, scale=1, size=N)\n",
        "\n",
        "    for i in range(1, N+1):\n",
        "        Y[i] = Y[i-1]*np.exp(mu*Delta + sigma*np.sqrt(Delta)*xi[i-1])\n",
        "    \n",
        "    path_mean = np.mean(Y[:N+1])\n",
        "    disc_payoff[j] = np.exp(-r*T)*np.max([path_mean - K, 0])"
      ],
      "execution_count": 0,
      "outputs": []
    },
    {
      "metadata": {
        "id": "bqTvjJENsAIa",
        "colab_type": "code",
        "colab": {
          "base_uri": "https://localhost:8080/",
          "height": 281
        },
        "outputId": "a6b284b6-7298-4d2d-deba-c41c408377b8"
      },
      "cell_type": "code",
      "source": [
        "plt.plot(Y);\n",
        "plt.title(\"Sample path of price\");"
      ],
      "execution_count": 47,
      "outputs": [
        {
          "output_type": "display_data",
          "data": {
            "image/png": "[encoded data removed]",
            "text/plain": [
              "<matplotlib.figure.Figure at 0x7f66ae747a90>"
            ]
          },
          "metadata": {
            "tags": []
          }
        }
      ]
    },
    {
      "metadata": {
        "id": "2D4Vs3uXsAIc",
        "colab_type": "code",
        "colab": {
          "base_uri": "https://localhost:8080/",
          "height": 281
        },
        "outputId": "5a395f2c-b37a-4f48-cb88-73999ee859bc"
      },
      "cell_type": "code",
      "source": [
        "plt.hist(disc_payoff, bins = 20);\n",
        "plt.title(\"Histogram of Discounted Payoff\");"
      ],
      "execution_count": 48,
      "outputs": [
        {
          "output_type": "display_data",
          "data": {
            "image/png": "[encoded data removed]",
            "text/plain": [
              "<matplotlib.figure.Figure at 0x7f66ae6345c0>"
            ]
          },
          "metadata": {
            "tags": []
          }
        }
      ]
    },
    {
      "metadata": {
        "id": "LAgv5ByxsAIf",
        "colab_type": "code",
        "colab": {
          "base_uri": "https://localhost:8080/",
          "height": 87
        },
        "outputId": "523241bf-0897-437b-b706-5892c2a90805"
      },
      "cell_type": "code",
      "source": [
        "dp_mean = np.mean(disc_payoff)\n",
        "dp_std = np.std(disc_payoff, ddof=1)\n",
        "\n",
        "print(\"Mean = \", dp_mean)\n",
        "print(\"Std Dev =\", dp_std)\n",
        "print(\"Half width =\", 1.96*dp_std/np.sqrt(n))\n",
        "print(\"CI = (\", dp_mean - 1.96*dp_std/np.sqrt(n), \",\", dp_mean + 1.96*dp_std/np.sqrt(n), \")\")"
      ],
      "execution_count": 49,
      "outputs": [
        {
          "output_type": "stream",
          "text": [
            "Mean =  9.902902051870468\n",
            "Std Dev = 4.181292390870897\n",
            "Half width = 0.2591591873583482\n",
            "CI = ( 9.64374286451212 , 10.162061239228816 )\n"
          ],
          "name": "stdout"
        }
      ]
    },
    {
      "metadata": {
        "id": "OSvdIaxfsAIh",
        "colab_type": "code",
        "colab": {}
      },
      "cell_type": "code",
      "source": [
        "## Antithetic IID paths\n",
        "n = 500 # number of paths to simulate\n",
        "\n",
        "disc_payoff_regular = np.zeros(n)\n",
        "disc_payoff_anti = np.zeros(n)\n",
        "disc_payoff = np.zeros(n)\n",
        "\n",
        "for j in range(n):\n",
        "    Y = np.zeros(N+1)\n",
        "    Y[0] = 50 # initial price\n",
        "    \n",
        "    Y_anti = np.zeros(N+1)\n",
        "    Y_anti[0] = 50 # initial price\n",
        "\n",
        "    # underlying N(0,1) rvs\n",
        "    xi = np.random.normal(loc=0, scale=1, size=N)\n",
        "    xi_anti = -xi\n",
        "\n",
        "    for i in range(1, N+1):\n",
        "        Y[i] = Y[i-1]*np.exp(mu*Delta + sigma*np.sqrt(Delta)*xi[i-1])\n",
        "        Y_anti[i] = Y_anti[i-1]*np.exp(mu*Delta + sigma*np.sqrt(Delta)*xi_anti[i-1])\n",
        "    \n",
        "    path_mean = np.mean(Y[:N+1])\n",
        "    disc_payoff_regular[j] = np.exp(-r*T)*np.max([path_mean - K, 0])\n",
        "    path_mean_anti = np.mean(Y_anti[:N+1])\n",
        "    disc_payoff_anti[j] = np.exp(-r*T)*np.max([path_mean_anti - K, 0])\n",
        "    disc_payoff[j] = (disc_payoff_regular[j] + disc_payoff_anti[j])/2"
      ],
      "execution_count": 0,
      "outputs": []
    },
    {
      "metadata": {
        "id": "vNOMtw2fsAIk",
        "colab_type": "code",
        "colab": {
          "base_uri": "https://localhost:8080/",
          "height": 281
        },
        "outputId": "8095b45c-ff9a-43d7-a481-a5a50889b55c"
      },
      "cell_type": "code",
      "source": [
        "plt.scatter(disc_payoff_regular, disc_payoff_anti, s=1);\n",
        "plt.title(\"Discounted payoffs from antithetic pairs\");"
      ],
      "execution_count": 54,
      "outputs": [
        {
          "output_type": "display_data",
          "data": {
            "image/png": "[encoded data removed]",
            "text/plain": [
              "<matplotlib.figure.Figure at 0x7f66ae6feb38>"
            ]
          },
          "metadata": {
            "tags": []
          }
        }
      ]
    },
    {
      "metadata": {
        "id": "VXCx1vfBsAIn",
        "colab_type": "code",
        "colab": {
          "base_uri": "https://localhost:8080/",
          "height": 281
        },
        "outputId": "2f4f8bed-a484-41c5-a055-c280b716df82"
      },
      "cell_type": "code",
      "source": [
        "plt.plot(Y);\n",
        "plt.plot(Y_anti)\n",
        "plt.title(\"Antithetic sample paths of price\");"
      ],
      "execution_count": 53,
      "outputs": [
        {
          "output_type": "display_data",
          "data": {
            "image/png": "[encoded data removed]",
            "text/plain": [
              "<matplotlib.figure.Figure at 0x7f66ae58cd68>"
            ]
          },
          "metadata": {
            "tags": []
          }
        }
      ]
    },
    {
      "metadata": {
        "id": "kcxhhXAKsAIv",
        "colab_type": "code",
        "colab": {
          "base_uri": "https://localhost:8080/",
          "height": 281
        },
        "outputId": "ea06ec60-838f-45f3-ab29-d05a9bfbad40"
      },
      "cell_type": "code",
      "source": [
        "plt.hist(disc_payoff, bins = 20);\n",
        "plt.title(\"Histogram of Discounted Payoff Estimates (Antithetic)\");"
      ],
      "execution_count": 55,
      "outputs": [
        {
          "output_type": "display_data",
          "data": {
            "image/png": "[encoded data removed]",
            "text/plain": [
              "<matplotlib.figure.Figure at 0x7f66ae681a58>"
            ]
          },
          "metadata": {
            "tags": []
          }
        }
      ]
    },
    {
      "metadata": {
        "id": "LCATl9MdsAIz",
        "colab_type": "code",
        "colab": {
          "base_uri": "https://localhost:8080/",
          "height": 87
        },
        "outputId": "0ed5ac25-9f0f-4885-a80f-071bdd55e0ca"
      },
      "cell_type": "code",
      "source": [
        "dp_mean = np.mean(disc_payoff)\n",
        "dp_std = np.std(disc_payoff, ddof=1)\n",
        "\n",
        "print(\"Mean = \", dp_mean)\n",
        "print(\"Std Dev =\", dp_std)\n",
        "print(\"Half width =\", 1.96*dp_std/np.sqrt(n))\n",
        "print(\"CI = (\", dp_mean - 1.96*dp_std/np.sqrt(n), \",\", dp_mean + 1.96*dp_std/np.sqrt(n), \")\")"
      ],
      "execution_count": 56,
      "outputs": [
        {
          "output_type": "stream",
          "text": [
            "Mean =  10.195418319586395\n",
            "Std Dev = 0.3531007979675206\n",
            "Half width = 0.030950649576859987\n",
            "CI = ( 10.164467670009534 , 10.226368969163255 )\n"
          ],
          "name": "stdout"
        }
      ]
    },
    {
      "metadata": {
        "id": "PbiL_LXEsAI3",
        "colab_type": "code",
        "colab": {}
      },
      "cell_type": "code",
      "source": [
        ""
      ],
      "execution_count": 0,
      "outputs": []
    }
  ]
}