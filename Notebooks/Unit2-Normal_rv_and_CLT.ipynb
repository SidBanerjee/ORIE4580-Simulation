{
  "nbformat": 4,
  "nbformat_minor": 0,
  "metadata": {
    "colab": {
      "name": "Normal_rv_and_CLT.ipynb",
      "provenance": [],
      "collapsed_sections": [],
      "toc_visible": true
    },
    "kernelspec": {
      "display_name": "Python 3",
      "language": "python",
      "name": "python3"
    }
  },
  "cells": [
    {
      "cell_type": "markdown",
      "metadata": {
        "id": "4r_fIZowz4pd",
        "colab_type": "text"
      },
      "source": [
        "ORIE 4580:  The Central Limit Theorem\n",
        "=====\n",
        "Sid Banerjee, Cornell\n",
        "\n",
        "Notebook demonstrating how sums of random variables behave, and in particular, the [Central Limit Theorem](https://en.wikipedia.org/wiki/Central_limit_theorem)"
      ]
    },
    {
      "cell_type": "code",
      "metadata": {
        "id": "i-S5L5kYz4pf",
        "colab_type": "code",
        "colab": {}
      },
      "source": [
        "# Make sure we have the packages we need\n",
        "import numpy as np\n",
        "from scipy import stats\n",
        "import math\n",
        "\n",
        "# Configuring matplotlib\n",
        "import matplotlib.pyplot as plt\n",
        "plt.rcParams[\"figure.figsize\"] = (10,10)\n",
        "plt.rcParams['axes.labelsize'] = 14\n",
        "plt.rcParams['xtick.labelsize'] = 12\n",
        "plt.rcParams['ytick.labelsize'] = 12\n",
        "plt.style.use('dark_background')\n",
        "plt.rcParams[\"image.cmap\"] = 'Set3'\n",
        "\n",
        "# Choosing a colormap for the plot colors\n",
        "cmap=plt.get_cmap('Set3')"
      ],
      "execution_count": 45,
      "outputs": []
    },
    {
      "cell_type": "markdown",
      "metadata": {
        "id": "TrHbw_5Gz4pj",
        "colab_type": "text"
      },
      "source": [
        "## Normal Distribution\n",
        "\n",
        "A Normal random variable $$X\\sim\\mathcal{N}(\\mu,\\sigma^2)$$ with mean $\\mu$ and standard deviation $\\sigma$ has pdf given by:\n",
        "\n",
        "$$ f(x|\\mu, \\sigma) = \\frac{1}{\\sigma\\sqrt{2\\pi}} e^{ -\\frac{(x-\\mu)^2}{2\\sigma^2} }$$"
      ]
    },
    {
      "cell_type": "code",
      "metadata": {
        "id": "Y86aqAOBz4pj",
        "colab_type": "code",
        "colab": {}
      },
      "source": [
        "x = np.linspace(-10,20, num=200)\n",
        "\n",
        "for mu, sigma in zip([-3, 0, 5], [1, 2, 5]):\n",
        "    plt.plot(x, stats.norm.pdf(x, mu, sigma), lw=2, label = r\"$\\mu = $\"+ str(mu) +r\"$, \\sigma=$\"+ str(sigma))\n",
        "    \n",
        "plt.legend(loc = 1)\n",
        "plt.title(\"Normal Distribution\")\n",
        "plt.xlabel(\"$x$\")\n",
        "plt.ylabel(\"pdf at $x$\")\n",
        "plt.show()"
      ],
      "execution_count": null,
      "outputs": []
    },
    {
      "cell_type": "markdown",
      "metadata": {
        "id": "A1UbN9xTOHAG",
        "colab_type": "text"
      },
      "source": [
        "One important property of the Normal distribution is that it is 'closed under linear combinations', i.e., the distribution of a sum of Normal rvs is still Normally distributed. Formally, if $X_1, X_2$ are iid $\\mathcal{N}(0,1)$ rvs, and $Y=aX_1 + bX_2$, then $Y\\sim\\mathcal{N}(0,a^2+b^2)$"
      ]
    },
    {
      "cell_type": "code",
      "metadata": {
        "id": "xH0qpYxAPHUN",
        "colab_type": "code",
        "colab": {}
      },
      "source": [
        "# Number of samples\n",
        "N = 100000\n",
        "\n",
        "# Initializing the random number generator seed\n",
        "np.random.seed(0)\n",
        "\n",
        "x_1 = np.random.normal(0,1,N)\n",
        "x_2 = np.random.normal(0,1,N)\n",
        "plt.subplot(2,2,1)\n",
        "plt.hist(x_1, bins = 100, alpha = 0.7 ,density = True, color=cmap(2))\n",
        "plt.title(r'$X_1\\sim\\mathcal{N}(0,1)$')\n",
        "\n",
        "\n",
        "y_1 = x_1 + x_2\n",
        "plt.subplot(2,2,2)\n",
        "plt.hist(y_1, bins = 100, alpha = 0.7 ,density = True, color=cmap(3))\n",
        "plt.title(r'$Y_1=X_1+X_2$')\n",
        "\n",
        "y_2 = x_1 - x_2\n",
        "plt.subplot(2,2,3)\n",
        "plt.hist(y_2, bins = 100, alpha = 0.7 ,density = True,color=cmap(4))\n",
        "plt.title(r'$Y_2=X_1-X_2$')\n",
        "\n",
        "y_3 = x_1 + 2*x_2\n",
        "plt.subplot(2,2,4)\n",
        "plt.hist(y_3, bins = 100, alpha = 0.7 ,density = True, color=cmap(5))\n",
        "plt.title(r'$Y_3=X_1+2X_2$')\n",
        "\n",
        "\n",
        "plt.show()"
      ],
      "execution_count": null,
      "outputs": []
    },
    {
      "cell_type": "markdown",
      "metadata": {
        "id": "iykjt5Stz4pr",
        "colab_type": "text"
      },
      "source": [
        "### Why do we care about the Normal distribution?\n",
        "\n",
        "Because of the Central Limit Theorem!\n",
        "\n",
        "However, we should be careful to understand exactly what it says\n",
        "\n",
        "#### Common folk statement: \n",
        "\n",
        "> \"If your data is the sum of many independent processes, it is very close to being normally distributed.\"\n",
        "\n",
        "Let's now see if this is correct."
      ]
    },
    {
      "cell_type": "markdown",
      "metadata": {
        "id": "Il7on_qyz4ps",
        "colab_type": "text"
      },
      "source": [
        "## Sums and averages of uniform random variables\n",
        "\n",
        "Suppose $X_1,X_2,\\ldots,X_n$ are i.i.d random variables, with each $X_i\\sim\\,Uniform[0,1]$. We want to understand the behavior of sums and averages of these variables; in particular, we are interested in:\n",
        "\n",
        "\\begin{align}\n",
        "S_k &= \\sum_{i=1}^kX_i\\\\\n",
        "\\hat{X}_k &= \\frac{1}{k}\\sum_{i=1}^kX_i\n",
        "\\end{align}\n",
        "\n",
        "Let us simulate to see how these look."
      ]
    },
    {
      "cell_type": "code",
      "metadata": {
        "id": "nRo6ksQkz4pt",
        "colab_type": "code",
        "colab": {}
      },
      "source": [
        "# Generating the samples\n",
        "\n",
        "# Number of samples\n",
        "N = 100000\n",
        "\n",
        "# Initializing the random number generator seed\n",
        "np.random.seed(0)\n",
        "\n",
        "x_sum = []\n",
        "x_avg = []\n",
        "for k in np.arange(10)+1:\n",
        "    X = np.random.rand(k,N)\n",
        "    x_sum.append(np.sum(X,0))\n",
        "    x_avg.append(np.sum(X,0)/k)"
      ],
      "execution_count": 48,
      "outputs": []
    },
    {
      "cell_type": "markdown",
      "metadata": {
        "id": "a4KGytfMz4py",
        "colab_type": "text"
      },
      "source": [
        "### Sum of iid random variables $S_k$"
      ]
    },
    {
      "cell_type": "code",
      "metadata": {
        "id": "_ijwm8hZz4pz",
        "colab_type": "code",
        "colab": {}
      },
      "source": [
        "plt.subplots_adjust(hspace=.5)\n",
        "\n",
        "for k in [1, 2, 3, 4]:\n",
        "    plt.subplot(2,2,k)\n",
        "    plt.hist(x_sum[k-1], bins = 100, alpha = 0.7 ,density = True, label='k=' + np.str(k),color=cmap(k+1))\n",
        "    plt.title(\"Sum of \" + str(k) + \" uniform rv\")\n",
        "\n",
        "plt.show()"
      ],
      "execution_count": null,
      "outputs": []
    },
    {
      "cell_type": "markdown",
      "metadata": {
        "id": "jV76sobuz4p2",
        "colab_type": "text"
      },
      "source": [
        "### Avg of iid random variables $\\hat{X}_k$"
      ]
    },
    {
      "cell_type": "code",
      "metadata": {
        "id": "TVSzGZOuz4p4",
        "colab_type": "code",
        "colab": {}
      },
      "source": [
        "plt.subplots_adjust(hspace=.5)\n",
        "\n",
        "for k in [1, 2, 3, 4]:\n",
        "    plt.subplot(2,2,k)\n",
        "    plt.hist(x_avg[k-1], bins = 100, alpha = 0.7 ,density = True, label='k=' + np.str(k),color=cmap(k+1))\n",
        "    plt.title(\"Average of \" + str(k) + \" uniform rv\")\n",
        "\n",
        "plt.show()"
      ],
      "execution_count": null,
      "outputs": []
    },
    {
      "cell_type": "markdown",
      "metadata": {
        "id": "LRevsMSGz4p8",
        "colab_type": "text"
      },
      "source": [
        "### Comparing on same scale"
      ]
    },
    {
      "cell_type": "code",
      "metadata": {
        "id": "XElMEt5cz4p9",
        "colab_type": "code",
        "colab": {}
      },
      "source": [
        "for k in np.arange(5)+1:\n",
        "    plt.hist(x_sum[k-1], bins = 100, alpha = 0.7 ,density = True, label='k=' + np.str(k),color=cmap(k+1))\n",
        "\n",
        "plt.legend(loc=1)\n",
        "plt.show()"
      ],
      "execution_count": null,
      "outputs": []
    },
    {
      "cell_type": "code",
      "metadata": {
        "id": "vCldnPvBz4qC",
        "colab_type": "code",
        "colab": {}
      },
      "source": [
        "for k in np.arange(10)+1:\n",
        "    plt.hist(x_avg[k-1], bins = 100, alpha = 0.7 ,density = True, label='k=' + np.str(k),color=cmap(k-1))\n",
        "\n",
        "plt.legend(loc=1)\n",
        "plt.show()"
      ],
      "execution_count": null,
      "outputs": []
    },
    {
      "cell_type": "markdown",
      "metadata": {
        "id": "Xi0j80gvNAcQ",
        "colab_type": "text"
      },
      "source": [
        "## Law of Large Numbers and CLT\n",
        "\n",
        "*What do the above plots converge to?* \n",
        "\n",
        "At first glance, they 'look normal' -- however, even if we add an infinite number of variables, the distribution does not converge to a normal! Can you see why? (note the maximum and minimum). In fact, the sum does not converge to anything...\n"
      ]
    },
    {
      "cell_type": "markdown",
      "metadata": {
        "id": "gj-m8sg2OZYC",
        "colab_type": "text"
      },
      "source": [
        "#### The law of large numbers\n",
        "\n",
        "The average however does converge to a delta distribution at the mean $\\mu$ "
      ]
    },
    {
      "cell_type": "code",
      "metadata": {
        "id": "5D4aplpTN1bs",
        "colab_type": "code",
        "colab": {}
      },
      "source": [
        "# Number of samples\n",
        "N = 100000\n",
        "# Initializing the random number generator seed\n",
        "np.random.seed(0)\n",
        "\n",
        "k_list = [1,5,10,50,100,500,1000]\n",
        "x_avg = []\n",
        "i = 1\n",
        "for k in k_list:\n",
        "    X = np.random.rand(k,N)\n",
        "    x_avg.append(np.sum(X,0)/k)\n",
        "    plt.hist(x_avg[-1], bins = 100, density = True, \n",
        "             alpha = 0.7, label='k=' + np.str(k),color=cmap(i))\n",
        "    i = i+1\n",
        "\n",
        "plt.legend(loc=1)\n",
        "plt.show()"
      ],
      "execution_count": null,
      "outputs": []
    },
    {
      "cell_type": "markdown",
      "metadata": {
        "id": "0mYdmmLNNPwL",
        "colab_type": "text"
      },
      "source": [
        "#### The central limit theorem\n",
        "\n",
        "To get a sequence of rvs that do converge to a standard normal random variable, we need to:\n",
        "* Center the rv before summing\n",
        "* Scale by $\\sqrt{k}$ instead of $k$"
      ]
    },
    {
      "cell_type": "code",
      "metadata": {
        "id": "iwMWNnTLz4qI",
        "colab_type": "code",
        "colab": {}
      },
      "source": [
        "x_cent = []\n",
        "for k in np.arange(len(x_sum)):\n",
        "    x_cent.append(x_sum[k] - 0.5*(k+1))\n",
        "    n, bins, patches = plt.hist(x_cent[k]/np.sqrt(k+1), bins = 100, density = True, \n",
        "                                alpha = 0.7, label='k=' + np.str(k+1),color=cmap(k))\n",
        "\n",
        "plt.legend(loc=1)\n",
        "plt.show()"
      ],
      "execution_count": null,
      "outputs": []
    },
    {
      "cell_type": "markdown",
      "metadata": {
        "id": "8HD3EqJEz4qO",
        "colab_type": "text"
      },
      "source": [
        "Adding a Gaussian pdf for comparison"
      ]
    },
    {
      "cell_type": "code",
      "metadata": {
        "id": "2cjvdGmJz4qQ",
        "colab_type": "code",
        "colab": {}
      },
      "source": [
        "for k in np.arange(len(x_cent)):\n",
        "    n, bins, patches = plt.hist(x_cent[k]/np.sqrt(k+1), bins = 100, density = True, \n",
        "                                alpha = 0.7, label='k=' + np.str(k+1),color=cmap(k))\n",
        "\n",
        "# add a Gaussian pdf to the plot\n",
        "mu = 0\n",
        "sigma = np.sqrt(1.0/12.0)\n",
        "y = stats.norm.pdf(bins,mu,sigma) \n",
        "plt.plot(bins, y, 'b--', linewidth=2)\n",
        "\n",
        "\n",
        "plt.legend(loc=1)\n",
        "plt.show()"
      ],
      "execution_count": null,
      "outputs": []
    },
    {
      "cell_type": "markdown",
      "metadata": {
        "id": "ihOhzZ8Rz4qX",
        "colab_type": "text"
      },
      "source": [
        "### Sums of other distributions"
      ]
    },
    {
      "cell_type": "markdown",
      "metadata": {
        "id": "VCQXq4Zyz4qa",
        "colab_type": "text"
      },
      "source": [
        "#### Exponential Distribution\n",
        "\n",
        "An Exponential distribution with rate $\\lambda$ is defined as:\n",
        "\n",
        "$$ f(x; \\lambda) = \\lambda e^{ -\\lambda x}$$\n",
        "\n",
        "The mean of the Exponential$(\\lambda)$ distribution is $\\frac{1}{\\lambda}$ (typically denoted as $\\beta$), and is sometimes used to parametrize the distribution instead of the rate -- in particular, the *scale* parameter in the Numpy function numpy.random.exponential corresponds to $1/\\lambda$ (see https://docs.scipy.org/doc/numpy/reference/generated/numpy.random.exponential.html). \n",
        "\n",
        "The variance of Exponential$(\\lambda)$ is $\\frac{1}{\\lambda^2}$ "
      ]
    },
    {
      "cell_type": "code",
      "metadata": {
        "id": "Buzr5IUoz4qa",
        "colab_type": "code",
        "colab": {}
      },
      "source": [
        "N = 100000\n",
        "\n",
        "np.random.seed(0)\n",
        "\n",
        "x_exp_sum = []\n",
        "for k in np.arange(10):\n",
        "    X = np.random.exponential(1,(k+1,N))\n",
        "    x_exp_sum.append(np.sum(X,0))"
      ],
      "execution_count": 64,
      "outputs": []
    },
    {
      "cell_type": "code",
      "metadata": {
        "id": "lpTJSMR5z4qd",
        "colab_type": "code",
        "colab": {}
      },
      "source": [
        "for k in np.arange(5):\n",
        "    n,bins,patches = plt.hist(x_exp_sum[k], bins = 100, density = True, \n",
        "                              alpha = 0.7, label='k=' + np.str(k+1),color=cmap(k))\n",
        "\n",
        "plt.legend(loc=1)\n",
        "plt.show()"
      ],
      "execution_count": null,
      "outputs": []
    },
    {
      "cell_type": "markdown",
      "metadata": {
        "id": "GasAXnAlz4qi",
        "colab_type": "text"
      },
      "source": [
        "The sum of $k$ Exponential$(\\lambda)$ variables comes up often in studying discrete event simulations; the corresponding distribution is called an Erlang distribution with shape $k$ and rate $\\lambda$ (https://en.wikipedia.org/wiki/Erlang_distribution). The distribution parameters are available in scipy.stats"
      ]
    },
    {
      "cell_type": "code",
      "metadata": {
        "id": "8dMTrPdBz4qk",
        "colab_type": "code",
        "colab": {}
      },
      "source": [
        "for k in np.arange(5):\n",
        "    n,bins,patches = plt.hist(x_exp_sum[k], bins = 100, density = True, \n",
        "                              alpha = 0.7, label='k=' + np.str(k+1),color=cmap(k))\n",
        "    y = stats.erlang.pdf(bins,k+1,scale = 1) \n",
        "    plt.plot(bins, y, 'b--', linewidth=1)\n",
        "\n",
        "plt.legend(loc=1)\n",
        "plt.show()"
      ],
      "execution_count": null,
      "outputs": []
    },
    {
      "cell_type": "markdown",
      "metadata": {
        "id": "7r0bI-Iaz4qp",
        "colab_type": "text"
      },
      "source": [
        "To get the CLT behavior, we again center and scale by $\\sqrt{k}$."
      ]
    },
    {
      "cell_type": "code",
      "metadata": {
        "id": "QnVvPdTlz4qr",
        "colab_type": "code",
        "colab": {}
      },
      "source": [
        "x_sum = []\n",
        "for k in np.arange(10):\n",
        "    i = 10*k+1\n",
        "    X = np.random.exponential(1,(i+1,N))\n",
        "    x_exp_sum.append(np.sum(X,0))\n",
        "    \n",
        "    n,bins,patches = plt.hist((x_exp_sum[-1]-(i+1)*1)/np.sqrt(i+1), bins = 100, density = True, \n",
        "                              alpha = 0.7, label='k=' + np.str(i),color=cmap(k))\n",
        "\n",
        "\n",
        "mu = 0\n",
        "sigma = 1.0\n",
        "y = stats.norm.pdf(bins,mu,sigma) \n",
        "plt.plot(bins, y, 'b--', linewidth=1)\n",
        "\n",
        "plt.legend(loc=1)\n",
        "plt.show()"
      ],
      "execution_count": null,
      "outputs": []
    },
    {
      "cell_type": "markdown",
      "metadata": {
        "id": "hwl38ZNsz4qz",
        "colab_type": "text"
      },
      "source": [
        "#### Poisson rv\n",
        "\n",
        "The CLT also works for discrete rvs, although it is interesting to see how the convergence occurs. As an example, consider the Poisson distribution with rate $\\lambda$, which has the pmf:\n",
        "\n",
        "$$ p(k; \\lambda) = \\frac{e^{ -\\lambda}(\\lambda)^k}{k!}\\quad,\\quad k\\in\\{0,1,2,\\ldots\\}$$ \n",
        "\n",
        "The mean and variance of the Poisson$(\\lambda)$ distribution are both $\\lambda$. It is available via the Numpy function numpy.random.poisson (see https://docs.scipy.org/doc/numpy-1.13.0/reference/generated/numpy.random.poisson.html). \n"
      ]
    },
    {
      "cell_type": "code",
      "metadata": {
        "id": "TqsSs3Atz4q1",
        "colab_type": "code",
        "colab": {}
      },
      "source": [
        "N = 10000\n",
        "\n",
        "np.random.seed(0)\n",
        "\n",
        "# Increasing spacing between plots\n",
        "plt.subplots_adjust(hspace=.5)\n",
        "\n",
        "for i in np.arange(4):\n",
        "    k = 2**i\n",
        "    X = np.random.poisson(1,(k,N))\n",
        "    X_avg = np.sum(X,0)/k\n",
        "    plt.subplot(2,2,i+1)\n",
        "    plt.hist(X_avg, bins = 100, density = True, \n",
        "             alpha = 0.7, label='k=' + np.str(k))\n",
        "    plt.title(\"Average of \" + str(k) + \" uniform rv\")\n",
        "\n",
        "plt.show()"
      ],
      "execution_count": null,
      "outputs": []
    },
    {
      "cell_type": "code",
      "metadata": {
        "id": "n5n6q71sz4q8",
        "colab_type": "code",
        "colab": {}
      },
      "source": [
        "N = 1000\n",
        "\n",
        "np.random.seed(0)\n",
        "\n",
        "for i in np.arange(4)+1:\n",
        "    k = 10**i\n",
        "    X_cent = np.random.poisson(1,(k,N)) - 1\n",
        "    n, bins, patches = plt.hist(np.sum(X_cent,0)/np.sqrt(k), bins = 100, density = True, \n",
        "                                alpha = 0.7, label='k=' + np.str(k),color=cmap(i-1))\n",
        "\n",
        "# add a Gaussian pdf\n",
        "mu = 0\n",
        "sigma = 1\n",
        "y = stats.norm.pdf(bins,mu,sigma) \n",
        "plt.plot(bins, y, 'b--', linewidth=1)\n",
        "\n",
        "plt.legend(loc=1)\n",
        "plt.show()"
      ],
      "execution_count": null,
      "outputs": []
    },
    {
      "cell_type": "code",
      "metadata": {
        "id": "Re0nBQB2v11s",
        "colab_type": "code",
        "colab": {}
      },
      "source": [
        ""
      ],
      "execution_count": 43,
      "outputs": []
    }
  ]
}